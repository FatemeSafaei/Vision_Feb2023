{
  "cells": [
    {
      "cell_type": "code",
      "execution_count": null,
      "metadata": {
        "id": "mxwCOU7lUkkx",
        "outputId": "93c3271c-f0f6-4d7c-8dcf-47b61b719595"
      },
      "outputs": [
        {
          "name": "stderr",
          "output_type": "stream",
          "text": [
            "Using TensorFlow backend.\n"
          ]
        }
      ],
      "source": [
        "from keras.models import Sequential\n",
        "from keras.layers import Conv2D, AveragePooling2D, Flatten, Dense,Activation,MaxPool2D, BatchNormalization, Dropout"
      ]
    },
    {
      "cell_type": "code",
      "execution_count": null,
      "metadata": {
        "scrolled": false,
        "id": "yMxVnyBNUkk2",
        "outputId": "7a9c86a9-73ed-4764-dca8-bf37bb6b344e"
      },
      "outputs": [
        {
          "name": "stdout",
          "output_type": "stream",
          "text": [
            "Model: \"Alexnet\"\n",
            "_________________________________________________________________\n",
            "Layer (type)                 Output Shape              Param #   \n",
            "=================================================================\n",
            "conv2d_1 (Conv2D)            (None, 55, 55, 96)        34944     \n",
            "_________________________________________________________________\n",
            "activation_1 (Activation)    (None, 55, 55, 96)        0         \n",
            "_________________________________________________________________\n",
            "max_pooling2d_1 (MaxPooling2 (None, 27, 27, 96)        0         \n",
            "_________________________________________________________________\n",
            "batch_normalization_1 (Batch (None, 27, 27, 96)        384       \n",
            "_________________________________________________________________\n",
            "conv2d_2 (Conv2D)            (None, 27, 27, 256)       614656    \n",
            "_________________________________________________________________\n",
            "activation_2 (Activation)    (None, 27, 27, 256)       0         \n",
            "_________________________________________________________________\n",
            "max_pooling2d_2 (MaxPooling2 (None, 13, 13, 256)       0         \n",
            "_________________________________________________________________\n",
            "batch_normalization_2 (Batch (None, 13, 13, 256)       1024      \n",
            "_________________________________________________________________\n",
            "conv2d_3 (Conv2D)            (None, 13, 13, 384)       885120    \n",
            "_________________________________________________________________\n",
            "activation_3 (Activation)    (None, 13, 13, 384)       0         \n",
            "_________________________________________________________________\n",
            "batch_normalization_3 (Batch (None, 13, 13, 384)       1536      \n",
            "_________________________________________________________________\n",
            "conv2d_4 (Conv2D)            (None, 13, 13, 384)       1327488   \n",
            "_________________________________________________________________\n",
            "activation_4 (Activation)    (None, 13, 13, 384)       0         \n",
            "_________________________________________________________________\n",
            "batch_normalization_4 (Batch (None, 13, 13, 384)       1536      \n",
            "_________________________________________________________________\n",
            "conv2d_5 (Conv2D)            (None, 13, 13, 256)       884992    \n",
            "_________________________________________________________________\n",
            "activation_5 (Activation)    (None, 13, 13, 256)       0         \n",
            "_________________________________________________________________\n",
            "batch_normalization_5 (Batch (None, 13, 13, 256)       1024      \n",
            "_________________________________________________________________\n",
            "max_pooling2d_3 (MaxPooling2 (None, 6, 6, 256)         0         \n",
            "_________________________________________________________________\n",
            "flatten_1 (Flatten)          (None, 9216)              0         \n",
            "_________________________________________________________________\n",
            "dense_1 (Dense)              (None, 4096)              37752832  \n",
            "_________________________________________________________________\n",
            "dropout_1 (Dropout)          (None, 4096)              0         \n",
            "_________________________________________________________________\n",
            "dense_2 (Dense)              (None, 4096)              16781312  \n",
            "_________________________________________________________________\n",
            "dropout_2 (Dropout)          (None, 4096)              0         \n",
            "_________________________________________________________________\n",
            "dense_3 (Dense)              (None, 1000)              4097000   \n",
            "=================================================================\n",
            "Total params: 62,383,848\n",
            "Trainable params: 62,381,096\n",
            "Non-trainable params: 2,752\n",
            "_________________________________________________________________\n"
          ]
        }
      ],
      "source": [
        "# Instantiate an empty sequential model\n",
        "model = Sequential(name=\"Alexnet\")\n",
        "# 1st layer (conv + pool + batchnorm)\n",
        "model.add(Conv2D(filters= 96, kernel_size= (11,11), strides=(4,4), padding='valid', kernel_regularizer=l2(0.0005),\n",
        "input_shape = (227,227,3)))\n",
        "model.add(Activation('relu'))  #<---- activation function can be added on its own layer or within the Conv2D function\n",
        "model.add(MaxPool2D(pool_size=(3,3), strides= (2,2), padding='valid'))\n",
        "model.add(BatchNormalization())\n",
        "\n",
        "# 2nd layer (conv + pool + batchnorm)\n",
        "model.add(Conv2D(filters=256, kernel_size=(5,5), strides=(1,1), padding='same', kernel_regularizer=l2(0.0005)))\n",
        "model.add(Activation('relu'))\n",
        "model.add(MaxPool2D(pool_size=(3,3), strides=(2,2), padding='valid'))\n",
        "model.add(BatchNormalization())\n",
        "\n",
        "# layer 3 (conv + batchnorm)      <--- note that the authors did not add a POOL layer here\n",
        "model.add(Conv2D(filters=384, kernel_size=(3,3), strides=(1,1), padding='same', kernel_regularizer=l2(0.0005)))\n",
        "model.add(Activation('relu'))\n",
        "model.add(BatchNormalization())\n",
        "\n",
        "# layer 4 (conv + batchnorm)      <--- similar to layer 3\n",
        "model.add(Conv2D(filters=384, kernel_size=(3,3), strides=(1,1), padding='same', kernel_regularizer=l2(0.0005)))\n",
        "model.add(Activation('relu'))\n",
        "model.add(BatchNormalization())\n",
        "\n",
        "# layer 5 (conv + batchnorm)\n",
        "model.add(Conv2D(filters=256, kernel_size=(3,3), strides=(1,1), padding='same', kernel_regularizer=l2(0.0005)))\n",
        "model.add(Activation('relu'))\n",
        "model.add(BatchNormalization())\n",
        "model.add(MaxPool2D(pool_size=(3,3), strides=(2,2), padding='valid'))\n",
        "\n",
        "# Flatten the CNN output to feed it with fully connected layers\n",
        "model.add(Flatten())\n",
        "\n",
        "# layer 6 (Dense layer + dropout)\n",
        "model.add(Dense(units = 4096, activation = 'relu'))\n",
        "model.add(Dropout(0.5))\n",
        "\n",
        "# layer 7 (Dense layers)\n",
        "model.add(Dense(units = 4096, activation = 'relu'))\n",
        "model.add(Dropout(0.5))\n",
        "\n",
        "# layer 8 (softmax output layer)\n",
        "model.add(Dense(units = 1000, activation = 'softmax'))\n",
        "\n",
        "# print the model summary\n",
        "model.summary()\n"
      ]
    },
    {
      "cell_type": "markdown",
      "metadata": {
        "id": "tZ0jtdQyUkk5"
      },
      "source": [
        "\n"
      ]
    }
  ],
  "metadata": {
    "anaconda-cloud": {},
    "kernelspec": {
      "display_name": "Python [conda env:deep_learning] *",
      "language": "python",
      "name": "conda-env-deep_learning-py"
    },
    "language_info": {
      "codemirror_mode": {
        "name": "ipython",
        "version": 3
      },
      "file_extension": ".py",
      "mimetype": "text/x-python",
      "name": "python",
      "nbconvert_exporter": "python",
      "pygments_lexer": "ipython3",
      "version": "3.7.6"
    },
    "colab": {
      "provenance": []
    }
  },
  "nbformat": 4,
  "nbformat_minor": 0
}