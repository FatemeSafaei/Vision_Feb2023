{
 "cells": [
  {
   "cell_type": "code",
   "execution_count": 3,
   "id": "3d681058",
   "metadata": {},
   "outputs": [],
   "source": [
    "class gregorian():\n",
    "    def __init__(self, year, month, day ):\n",
    "        self.year = year\n",
    "        self.month = month\n",
    "        self.day = day\n",
    "\n",
    "    def gregorian_to_hijri(self):\n",
    "        self.hijri_year = self.year + 5\n",
    "        self.hijri_month = self.month + 4\n",
    "        self.hijri_day = self.day + 3\n",
    "        return (self.hijri_year, self.hijri_month, self.hijri_day)\n",
    "    "
   ]
  },
  {
   "cell_type": "code",
   "execution_count": 4,
   "id": "3f9a7f23",
   "metadata": {},
   "outputs": [
    {
     "data": {
      "text/plain": [
       "(2020, 9, 7)"
      ]
     },
     "execution_count": 4,
     "metadata": {},
     "output_type": "execute_result"
    }
   ],
   "source": [
    "output = gregorian(2015, 5, 4).gregorian_to_hijri()\n",
    "output"
   ]
  },
  {
   "cell_type": "code",
   "execution_count": null,
   "id": "a7c8813f",
   "metadata": {},
   "outputs": [],
   "source": []
  }
 ],
 "metadata": {
  "kernelspec": {
   "display_name": "Python 3 (ipykernel)",
   "language": "python",
   "name": "python3"
  },
  "language_info": {
   "codemirror_mode": {
    "name": "ipython",
    "version": 3
   },
   "file_extension": ".py",
   "mimetype": "text/x-python",
   "name": "python",
   "nbconvert_exporter": "python",
   "pygments_lexer": "ipython3",
   "version": "3.10.6"
  }
 },
 "nbformat": 4,
 "nbformat_minor": 5
}
