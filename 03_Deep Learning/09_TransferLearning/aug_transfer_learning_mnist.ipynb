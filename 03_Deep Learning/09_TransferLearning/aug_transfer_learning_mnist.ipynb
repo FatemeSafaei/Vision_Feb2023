{
  "nbformat": 4,
  "nbformat_minor": 0,
  "metadata": {
    "colab": {
      "provenance": [],
      "gpuType": "T4"
    },
    "kernelspec": {
      "name": "python3",
      "display_name": "Python 3"
    },
    "language_info": {
      "name": "python"
    },
    "accelerator": "GPU"
  },
  "cells": [
    {
      "cell_type": "code",
      "execution_count": 1,
      "metadata": {
        "id": "2hXxel6nK2sa"
      },
      "outputs": [],
      "source": [
        "import keras\n",
        "from keras.datasets import mnist\n",
        "import matplotlib.pyplot as plt"
      ]
    },
    {
      "cell_type": "code",
      "source": [
        "import numpy as np\n",
        "import tensorflow as tf\n",
        "from keras import layers\n",
        "from keras.preprocessing.image import ImageDataGenerator"
      ],
      "metadata": {
        "id": "M9vVNp68NY7M"
      },
      "execution_count": 2,
      "outputs": []
    },
    {
      "cell_type": "code",
      "source": [
        "(train_images, train_labels), (test_images, test_labels) = mnist.load_data()"
      ],
      "metadata": {
        "id": "CHzQQREVNY9b"
      },
      "execution_count": 3,
      "outputs": []
    },
    {
      "cell_type": "code",
      "source": [
        "train_images.shape"
      ],
      "metadata": {
        "colab": {
          "base_uri": "https://localhost:8080/"
        },
        "id": "kPmmLY8_NY_6",
        "outputId": "15442d8e-f0f7-40b3-9d8c-4ec4cae96f40"
      },
      "execution_count": 4,
      "outputs": [
        {
          "output_type": "execute_result",
          "data": {
            "text/plain": [
              "(60000, 28, 28)"
            ]
          },
          "metadata": {},
          "execution_count": 4
        }
      ]
    },
    {
      "cell_type": "code",
      "source": [
        "train_images =  train_images.astype('float32')/ 255\n",
        "test_images =  test_images.astype('float32')/ 255\n",
        "train_labels = keras.utils.to_categorical(train_labels)\n",
        "test_labels = keras.utils.to_categorical(test_labels)\n",
        "\n"
      ],
      "metadata": {
        "id": "ZGogw-U2NZCT"
      },
      "execution_count": 5,
      "outputs": []
    },
    {
      "cell_type": "code",
      "source": [
        "train_images = train_images[0:10]\n",
        "test_images = test_images[0:10]\n",
        "train_labels = train_labels[0:10]\n",
        "test_labels = test_labels[0:10]"
      ],
      "metadata": {
        "id": "D2SbsdW2NZEC"
      },
      "execution_count": 6,
      "outputs": []
    },
    {
      "cell_type": "code",
      "source": [
        "train_images = train_images.reshape(-1, 28, 28, 1)\n",
        "test_images = test_images.reshape(-1, 28, 28, 1)\n"
      ],
      "metadata": {
        "id": "ABYZ1nyfNZGr"
      },
      "execution_count": 7,
      "outputs": []
    },
    {
      "cell_type": "code",
      "source": [
        "datagen = ImageDataGenerator(rotation_range=45)"
      ],
      "metadata": {
        "id": "zrxDgH8cNZIw"
      },
      "execution_count": 8,
      "outputs": []
    },
    {
      "cell_type": "code",
      "source": [
        "aug = datagen.flow(train_images, train_labels, batch_size= 10)\n"
      ],
      "metadata": {
        "id": "btIPJbcpNZK_"
      },
      "execution_count": 9,
      "outputs": []
    },
    {
      "cell_type": "code",
      "source": [
        "batch_0 = aug[0]\n",
        "batch_0_images = aug[0][0]\n",
        "batch_0_labels = aug[0][1]"
      ],
      "metadata": {
        "id": "tP358UJaNZNL"
      },
      "execution_count": 10,
      "outputs": []
    },
    {
      "cell_type": "code",
      "source": [
        "plt.imshow(aug[0][0][0], cmap='gray')"
      ],
      "metadata": {
        "colab": {
          "base_uri": "https://localhost:8080/",
          "height": 447
        },
        "id": "JZhRZYgsNZP-",
        "outputId": "825803ac-39e6-4eb9-b7e8-c2aa3a0dadcc"
      },
      "execution_count": 11,
      "outputs": [
        {
          "output_type": "execute_result",
          "data": {
            "text/plain": [
              "<matplotlib.image.AxesImage at 0x7fdc79a14e20>"
            ]
          },
          "metadata": {},
          "execution_count": 11
        },
        {
          "output_type": "display_data",
          "data": {
            "text/plain": [
              "<Figure size 640x480 with 1 Axes>"
            ],
            "image/png": "[encoded data removed]"
          },
          "metadata": {}
        }
      ]
    },
    {
      "cell_type": "code",
      "source": [
        "aug[0][1][0]"
      ],
      "metadata": {
        "colab": {
          "base_uri": "https://localhost:8080/"
        },
        "id": "HjskZNRFWk50",
        "outputId": "e5668e7c-2666-46ed-bb86-25ec91307bf7"
      },
      "execution_count": 12,
      "outputs": [
        {
          "output_type": "execute_result",
          "data": {
            "text/plain": [
              "array([0., 0., 1., 0., 0., 0., 0., 0., 0., 0.], dtype=float32)"
            ]
          },
          "metadata": {},
          "execution_count": 12
        }
      ]
    },
    {
      "cell_type": "code",
      "source": [
        "rows = 1\n",
        "columns = 10\n",
        "\n",
        "fig = plt.figure(figsize=(8, 8))\n",
        "for i in range(1, 11):\n",
        "  img = train_images[i-1]\n",
        "  fig.add_subplot(rows, columns, i)\n",
        "  plt.axis('off')\n",
        "  plt.imshow(img, cmap='gray')\n",
        "plt.show()"
      ],
      "metadata": {
        "colab": {
          "base_uri": "https://localhost:8080/",
          "height": 89
        },
        "id": "fzKYeonoWriG",
        "outputId": "9c60de40-b8b7-4697-c5d6-cc4912e3eead"
      },
      "execution_count": 13,
      "outputs": [
        {
          "output_type": "display_data",
          "data": {
            "text/plain": [
              "<Figure size 800x800 with 10 Axes>"
            ],
            "image/png": "[encoded data removed]"
          },
          "metadata": {}
        }
      ]
    },
    {
      "cell_type": "code",
      "source": [
        "rows = 1\n",
        "columns = 10\n",
        "\n",
        "fig = plt.figure(figsize=(8, 8))\n",
        "for i in range(1, 11):\n",
        "  img = aug[0][0][i-1]\n",
        "  fig.add_subplot(rows, columns, i)\n",
        "  plt.axis('off')\n",
        "  plt.imshow(img, cmap='gray')\n",
        "plt.show()"
      ],
      "metadata": {
        "colab": {
          "base_uri": "https://localhost:8080/",
          "height": 89
        },
        "id": "abHNWTORWrlK",
        "outputId": "dd37ed7d-0dec-4300-a604-5e92ca524c2d"
      },
      "execution_count": 14,
      "outputs": [
        {
          "output_type": "display_data",
          "data": {
            "text/plain": [
              "<Figure size 800x800 with 10 Axes>"
            ],
            "image/png": "[encoded data removed]"
          },
          "metadata": {}
        }
      ]
    },
    {
      "cell_type": "code",
      "source": [
        "concatenated_train_images = np.concatenate((train_images, aug[0][0]), axis=0)\n",
        "concatenated_train_lbl = np.concatenate((train_labels, aug[0][1]), axis=0)\n"
      ],
      "metadata": {
        "id": "uyeYL7EUWrno"
      },
      "execution_count": 15,
      "outputs": []
    },
    {
      "cell_type": "code",
      "source": [
        "concatenated_train_images.shape"
      ],
      "metadata": {
        "colab": {
          "base_uri": "https://localhost:8080/"
        },
        "id": "qquOdQ9sWrpv",
        "outputId": "b8795ed5-b539-4bc6-a6c7-4eff5537608a"
      },
      "execution_count": 16,
      "outputs": [
        {
          "output_type": "execute_result",
          "data": {
            "text/plain": [
              "(20, 28, 28, 1)"
            ]
          },
          "metadata": {},
          "execution_count": 16
        }
      ]
    },
    {
      "cell_type": "code",
      "source": [
        "concatenated_train_lbl.shape"
      ],
      "metadata": {
        "colab": {
          "base_uri": "https://localhost:8080/"
        },
        "id": "k9yFAB08Wrrs",
        "outputId": "13d88084-d4fa-4dde-c7a6-0516c7ed1449"
      },
      "execution_count": 17,
      "outputs": [
        {
          "output_type": "execute_result",
          "data": {
            "text/plain": [
              "(20, 10)"
            ]
          },
          "metadata": {},
          "execution_count": 17
        }
      ]
    },
    {
      "cell_type": "code",
      "source": [
        "from keras.models import Sequential\n",
        "from keras import layers"
      ],
      "metadata": {
        "id": "daOp8RGUaSbT"
      },
      "execution_count": 18,
      "outputs": []
    },
    {
      "cell_type": "code",
      "source": [
        "model = Sequential()\n",
        "\n",
        "#CNN\n",
        "model.add(layers.Conv2D(32, kernel_size=(3, 3), padding='same', activation='relu', strides=(1, 1), input_shape=(28, 28, 1)))\n",
        "model.add(layers.MaxPooling2D(pool_size=(2, 2)))\n",
        "model.add(layers.BatchNormalization())\n",
        "model.add(layers.Conv2D(64,  kernel_size=(3, 3), padding='same', activation='relu', strides=(1, 1)))\n",
        "model.add(layers.MaxPooling2D(pool_size=(2, 2)))\n",
        "model.add(layers.Dropout(0.2))\n",
        "model.add(layers.Conv2D(128,  kernel_size=(3, 3), padding='same', activation='relu', strides=(1, 1)))\n",
        "model.add(layers.MaxPooling2D(pool_size=(2, 2)))\n",
        "\n",
        "#Classification\n",
        "model.add(layers.Flatten())\n",
        "model.add(layers.Dense(10, activation='softmax'))"
      ],
      "metadata": {
        "id": "Yo7FoooHaWkx"
      },
      "execution_count": 19,
      "outputs": []
    },
    {
      "cell_type": "code",
      "source": [
        "model.compile(optimizer='adam', loss='categorical_crossentropy' , metrics=['accuracy'])\n",
        "hist = model.fit(concatenated_train_images, concatenated_train_lbl,validation_split=0.1, verbose=1 , epochs=5, batch_size=32)\n"
      ],
      "metadata": {
        "colab": {
          "base_uri": "https://localhost:8080/"
        },
        "id": "4U1CCJ-UaWoK",
        "outputId": "3ebe769f-ba33-4d14-f76b-d8cc5111318a"
      },
      "execution_count": 20,
      "outputs": [
        {
          "output_type": "stream",
          "name": "stdout",
          "text": [
            "Epoch 1/5\n",
            "1/1 [==============================] - 11s 11s/step - loss: 2.4730 - accuracy: 0.0000e+00 - val_loss: 2.3073 - val_accuracy: 0.0000e+00\n",
            "Epoch 2/5\n",
            "1/1 [==============================] - 0s 97ms/step - loss: 1.8068 - accuracy: 0.3333 - val_loss: 2.2831 - val_accuracy: 0.0000e+00\n",
            "Epoch 3/5\n",
            "1/1 [==============================] - 0s 131ms/step - loss: 1.3885 - accuracy: 0.4444 - val_loss: 2.2454 - val_accuracy: 0.5000\n",
            "Epoch 4/5\n",
            "1/1 [==============================] - 0s 102ms/step - loss: 1.0849 - accuracy: 0.8333 - val_loss: 2.2110 - val_accuracy: 0.5000\n",
            "Epoch 5/5\n",
            "1/1 [==============================] - 0s 134ms/step - loss: 0.8497 - accuracy: 0.8889 - val_loss: 2.1722 - val_accuracy: 0.0000e+00\n"
          ]
        }
      ]
    },
    {
      "cell_type": "code",
      "source": [
        "from google.colab import drive\n",
        "drive.mount('/content/drive')"
      ],
      "metadata": {
        "colab": {
          "base_uri": "https://localhost:8080/"
        },
        "id": "VmYe4KoxaWus",
        "outputId": "40f3fc65-d40b-4e07-9e03-6e7cf585dfad"
      },
      "execution_count": 21,
      "outputs": [
        {
          "output_type": "stream",
          "name": "stdout",
          "text": [
            "Drive already mounted at /content/drive; to attempt to forcibly remount, call drive.mount(\"/content/drive\", force_remount=True).\n"
          ]
        }
      ]
    },
    {
      "cell_type": "code",
      "source": [
        "model.save('/content/drive/MyDrive/mnist_model/mnist_test_model.h5')"
      ],
      "metadata": {
        "id": "ygdbYUY4cl5s"
      },
      "execution_count": 22,
      "outputs": []
    },
    {
      "cell_type": "code",
      "source": [
        "loaded_model = keras.models.load_model('/content/drive/MyDrive/mnist_model/mnist_test_model.h5')"
      ],
      "metadata": {
        "id": "c07pUpAzcl8h"
      },
      "execution_count": 23,
      "outputs": []
    },
    {
      "cell_type": "code",
      "source": [
        "import cv2\n",
        "im_gray_2 = cv2.imread('/content/drive/MyDrive/Test_MNIST/seven.png', cv2.IMREAD_GRAYSCALE)\n",
        "im_gray_inverted= cv2.bitwise_not(im_gray_2)\n",
        "im_gray_resized = cv2.resize(im_gray_inverted, (28, 28))\n",
        "im_gray_flatten = im_gray_resized.reshape(1, 28, 28, 1)\n",
        "im_gray_normalized = im_gray_flatten.astype('float32')/255\n",
        "preds = loaded_model.predict(im_gray_normalized)\n",
        "predicted_label = np.argmax(preds)\n",
        "print(predicted_label)"
      ],
      "metadata": {
        "colab": {
          "base_uri": "https://localhost:8080/"
        },
        "id": "Z4SCo_2hiR3b",
        "outputId": "97e7bef6-5a2b-4192-a9b4-0a9d5bde640a"
      },
      "execution_count": 24,
      "outputs": [
        {
          "output_type": "stream",
          "name": "stdout",
          "text": [
            "1/1 [==============================] - 0s 284ms/step\n",
            "9\n"
          ]
        }
      ]
    },
    {
      "cell_type": "code",
      "source": [
        "loaded_model.summary()"
      ],
      "metadata": {
        "colab": {
          "base_uri": "https://localhost:8080/"
        },
        "id": "8KIaWPPkcmCI",
        "outputId": "4611a6f7-f9f8-46fd-8624-33c8fd5e1a86"
      },
      "execution_count": 25,
      "outputs": [
        {
          "output_type": "stream",
          "name": "stdout",
          "text": [
            "Model: \"sequential\"\n",
            "_________________________________________________________________\n",
            " Layer (type)                Output Shape              Param #   \n",
            "=================================================================\n",
            " conv2d (Conv2D)             (None, 28, 28, 32)        320       \n",
            "                                                                 \n",
            " max_pooling2d (MaxPooling2D  (None, 14, 14, 32)       0         \n",
            " )                                                               \n",
            "                                                                 \n",
            " batch_normalization (BatchN  (None, 14, 14, 32)       128       \n",
            " ormalization)                                                   \n",
            "                                                                 \n",
            " conv2d_1 (Conv2D)           (None, 14, 14, 64)        18496     \n",
            "                                                                 \n",
            " max_pooling2d_1 (MaxPooling  (None, 7, 7, 64)         0         \n",
            " 2D)                                                             \n",
            "                                                                 \n",
            " dropout (Dropout)           (None, 7, 7, 64)          0         \n",
            "                                                                 \n",
            " conv2d_2 (Conv2D)           (None, 7, 7, 128)         73856     \n",
            "                                                                 \n",
            " max_pooling2d_2 (MaxPooling  (None, 3, 3, 128)        0         \n",
            " 2D)                                                             \n",
            "                                                                 \n",
            " flatten (Flatten)           (None, 1152)              0         \n",
            "                                                                 \n",
            " dense (Dense)               (None, 10)                11530     \n",
            "                                                                 \n",
            "=================================================================\n",
            "Total params: 104,330\n",
            "Trainable params: 104,266\n",
            "Non-trainable params: 64\n",
            "_________________________________________________________________\n"
          ]
        }
      ]
    },
    {
      "cell_type": "code",
      "source": [
        "for layer in loaded_model.layers:\n",
        "  print(layer)"
      ],
      "metadata": {
        "colab": {
          "base_uri": "https://localhost:8080/"
        },
        "id": "i_GH_b3HcmEb",
        "outputId": "0a4c9999-a46e-439f-faff-9e8fc56b54b0"
      },
      "execution_count": 26,
      "outputs": [
        {
          "output_type": "stream",
          "name": "stdout",
          "text": [
            "<keras.layers.convolutional.conv2d.Conv2D object at 0x7fdbe14c3c70>\n",
            "<keras.layers.pooling.max_pooling2d.MaxPooling2D object at 0x7fdbe14c3f70>\n",
            "<keras.layers.normalization.batch_normalization.BatchNormalization object at 0x7fdbe156ccd0>\n",
            "<keras.layers.convolutional.conv2d.Conv2D object at 0x7fdbe156e170>\n",
            "<keras.layers.pooling.max_pooling2d.MaxPooling2D object at 0x7fdbe156e980>\n",
            "<keras.layers.regularization.dropout.Dropout object at 0x7fdbe13fcd00>\n",
            "<keras.layers.convolutional.conv2d.Conv2D object at 0x7fdbe13fde10>\n",
            "<keras.layers.pooling.max_pooling2d.MaxPooling2D object at 0x7fdbe156e7a0>\n",
            "<keras.layers.reshaping.flatten.Flatten object at 0x7fdbe13ff100>\n",
            "<keras.layers.core.dense.Dense object at 0x7fdbe13fdab0>\n"
          ]
        }
      ]
    },
    {
      "cell_type": "code",
      "source": [
        "feature_extractor =  keras.models.Model(inputs=loaded_model.input, outputs=loaded_model.layers[-3].output)"
      ],
      "metadata": {
        "id": "9FdboELecmHI"
      },
      "execution_count": 27,
      "outputs": []
    },
    {
      "cell_type": "code",
      "source": [
        "feature_extractor.summary()"
      ],
      "metadata": {
        "colab": {
          "base_uri": "https://localhost:8080/"
        },
        "id": "hCRuN_J8gNl9",
        "outputId": "667e0f6b-18c1-4015-c7db-ac7d1a51f668"
      },
      "execution_count": 28,
      "outputs": [
        {
          "output_type": "stream",
          "name": "stdout",
          "text": [
            "Model: \"model\"\n",
            "_________________________________________________________________\n",
            " Layer (type)                Output Shape              Param #   \n",
            "=================================================================\n",
            " conv2d_input (InputLayer)   [(None, 28, 28, 1)]       0         \n",
            "                                                                 \n",
            " conv2d (Conv2D)             (None, 28, 28, 32)        320       \n",
            "                                                                 \n",
            " max_pooling2d (MaxPooling2D  (None, 14, 14, 32)       0         \n",
            " )                                                               \n",
            "                                                                 \n",
            " batch_normalization (BatchN  (None, 14, 14, 32)       128       \n",
            " ormalization)                                                   \n",
            "                                                                 \n",
            " conv2d_1 (Conv2D)           (None, 14, 14, 64)        18496     \n",
            "                                                                 \n",
            " max_pooling2d_1 (MaxPooling  (None, 7, 7, 64)         0         \n",
            " 2D)                                                             \n",
            "                                                                 \n",
            " dropout (Dropout)           (None, 7, 7, 64)          0         \n",
            "                                                                 \n",
            " conv2d_2 (Conv2D)           (None, 7, 7, 128)         73856     \n",
            "                                                                 \n",
            " max_pooling2d_2 (MaxPooling  (None, 3, 3, 128)        0         \n",
            " 2D)                                                             \n",
            "                                                                 \n",
            "=================================================================\n",
            "Total params: 92,800\n",
            "Trainable params: 92,736\n",
            "Non-trainable params: 64\n",
            "_________________________________________________________________\n"
          ]
        }
      ]
    },
    {
      "cell_type": "code",
      "source": [
        "model1 = Sequential()\n",
        "model1.add(feature_extractor)\n",
        "model1.add(layers.Conv2D(528, (1, 1), activation='relu'))\n",
        "model1.add(layers.Flatten())\n",
        "model1.add(layers.Dense(10, activation='softmax'))"
      ],
      "metadata": {
        "id": "x0Df71NWgRYG"
      },
      "execution_count": 32,
      "outputs": []
    },
    {
      "cell_type": "code",
      "source": [
        "model1.summary()"
      ],
      "metadata": {
        "colab": {
          "base_uri": "https://localhost:8080/"
        },
        "id": "mOF-VjYshBx1",
        "outputId": "0a1c144d-df3e-4efe-c83d-b64c40db9128"
      },
      "execution_count": 33,
      "outputs": [
        {
          "output_type": "stream",
          "name": "stdout",
          "text": [
            "Model: \"sequential_2\"\n",
            "_________________________________________________________________\n",
            " Layer (type)                Output Shape              Param #   \n",
            "=================================================================\n",
            " model (Functional)          (None, 3, 3, 128)         92800     \n",
            "                                                                 \n",
            " conv2d_4 (Conv2D)           (None, 3, 3, 528)         68112     \n",
            "                                                                 \n",
            " flatten_2 (Flatten)         (None, 4752)              0         \n",
            "                                                                 \n",
            " dense_2 (Dense)             (None, 10)                47530     \n",
            "                                                                 \n",
            "=================================================================\n",
            "Total params: 208,442\n",
            "Trainable params: 208,378\n",
            "Non-trainable params: 64\n",
            "_________________________________________________________________\n"
          ]
        }
      ]
    },
    {
      "cell_type": "code",
      "source": [
        "model1.compile(optimizer='adam', loss='categorical_crossentropy' , metrics=['accuracy'])\n",
        "hist = model1.fit(concatenated_train_images, concatenated_train_lbl,validation_split=0.1, verbose=2 , epochs=5, batch_size=1)\n"
      ],
      "metadata": {
        "colab": {
          "base_uri": "https://localhost:8080/"
        },
        "id": "Yrxu4VNLmbaY",
        "outputId": "9ae64b95-d342-42b0-da63-9f02e1d75c28"
      },
      "execution_count": 36,
      "outputs": [
        {
          "output_type": "stream",
          "name": "stdout",
          "text": [
            "Epoch 1/5\n",
            "18/18 - 3s - loss: 0.4952 - accuracy: 0.8333 - val_loss: 1.7614 - val_accuracy: 0.5000 - 3s/epoch - 144ms/step\n",
            "Epoch 2/5\n",
            "18/18 - 0s - loss: 0.1582 - accuracy: 1.0000 - val_loss: 1.5077 - val_accuracy: 1.0000 - 101ms/epoch - 6ms/step\n",
            "Epoch 3/5\n",
            "18/18 - 0s - loss: 0.0271 - accuracy: 1.0000 - val_loss: 1.2668 - val_accuracy: 1.0000 - 97ms/epoch - 5ms/step\n",
            "Epoch 4/5\n",
            "18/18 - 0s - loss: 0.0027 - accuracy: 1.0000 - val_loss: 1.1460 - val_accuracy: 1.0000 - 98ms/epoch - 5ms/step\n",
            "Epoch 5/5\n",
            "18/18 - 0s - loss: 8.0149e-04 - accuracy: 1.0000 - val_loss: 1.0422 - val_accuracy: 1.0000 - 117ms/epoch - 6ms/step\n"
          ]
        }
      ]
    },
    {
      "cell_type": "code",
      "source": [
        "from keras.utils.vis_utils import plot_model\n",
        "plot_model(model1, show_shapes=True)"
      ],
      "metadata": {
        "colab": {
          "base_uri": "https://localhost:8080/",
          "height": 533
        },
        "id": "rypdk13yhZ63",
        "outputId": "7d5999c2-a7c4-4420-dd0e-b1fa143ff16b"
      },
      "execution_count": 38,
      "outputs": [
        {
          "output_type": "execute_result",
          "data": {
            "image/png": "[encoded data removed]",
            "text/plain": [
              "<IPython.core.display.Image object>"
            ]
          },
          "metadata": {},
          "execution_count": 38
        }
      ]
    },
    {
      "cell_type": "code",
      "source": [
        "loaded_model.compile(optimizer='adam', loss='categorical_crossentropy' , metrics=['accuracy'])\n",
        "hist = loaded_model.fit(concatenated_train_images, concatenated_train_lbl,validation_split=0.1, verbose=1 , epochs=5, batch_size=32)\n"
      ],
      "metadata": {
        "colab": {
          "base_uri": "https://localhost:8080/"
        },
        "id": "m3i6b5echv10",
        "outputId": "0929a47b-83c6-45f8-a39e-f98e4877b2f0"
      },
      "execution_count": 39,
      "outputs": [
        {
          "output_type": "stream",
          "name": "stdout",
          "text": [
            "Epoch 1/5\n",
            "1/1 [==============================] - 2s 2s/step - loss: 1.3904 - accuracy: 0.6111 - val_loss: 2.0838 - val_accuracy: 0.5000\n",
            "Epoch 2/5\n",
            "1/1 [==============================] - 0s 41ms/step - loss: 0.8309 - accuracy: 0.9444 - val_loss: 2.0017 - val_accuracy: 0.5000\n",
            "Epoch 3/5\n",
            "1/1 [==============================] - 0s 37ms/step - loss: 0.5852 - accuracy: 0.9444 - val_loss: 1.9171 - val_accuracy: 1.0000\n",
            "Epoch 4/5\n",
            "1/1 [==============================] - 0s 35ms/step - loss: 0.3974 - accuracy: 0.9444 - val_loss: 1.8502 - val_accuracy: 1.0000\n",
            "Epoch 5/5\n",
            "1/1 [==============================] - 0s 36ms/step - loss: 0.2612 - accuracy: 1.0000 - val_loss: 1.7938 - val_accuracy: 1.0000\n"
          ]
        }
      ]
    },
    {
      "cell_type": "code",
      "source": [
        "loaded_model.summary()"
      ],
      "metadata": {
        "colab": {
          "base_uri": "https://localhost:8080/"
        },
        "id": "1oY0dl4tjOKk",
        "outputId": "cf5145a1-e3af-45cd-89d0-cc32fa5f5ebe"
      },
      "execution_count": 40,
      "outputs": [
        {
          "output_type": "stream",
          "name": "stdout",
          "text": [
            "Model: \"sequential\"\n",
            "_________________________________________________________________\n",
            " Layer (type)                Output Shape              Param #   \n",
            "=================================================================\n",
            " conv2d (Conv2D)             (None, 28, 28, 32)        320       \n",
            "                                                                 \n",
            " max_pooling2d (MaxPooling2D  (None, 14, 14, 32)       0         \n",
            " )                                                               \n",
            "                                                                 \n",
            " batch_normalization (BatchN  (None, 14, 14, 32)       128       \n",
            " ormalization)                                                   \n",
            "                                                                 \n",
            " conv2d_1 (Conv2D)           (None, 14, 14, 64)        18496     \n",
            "                                                                 \n",
            " max_pooling2d_1 (MaxPooling  (None, 7, 7, 64)         0         \n",
            " 2D)                                                             \n",
            "                                                                 \n",
            " dropout (Dropout)           (None, 7, 7, 64)          0         \n",
            "                                                                 \n",
            " conv2d_2 (Conv2D)           (None, 7, 7, 128)         73856     \n",
            "                                                                 \n",
            " max_pooling2d_2 (MaxPooling  (None, 3, 3, 128)        0         \n",
            " 2D)                                                             \n",
            "                                                                 \n",
            " flatten (Flatten)           (None, 1152)              0         \n",
            "                                                                 \n",
            " dense (Dense)               (None, 10)                11530     \n",
            "                                                                 \n",
            "=================================================================\n",
            "Total params: 104,330\n",
            "Trainable params: 104,266\n",
            "Non-trainable params: 64\n",
            "_________________________________________________________________\n"
          ]
        }
      ]
    },
    {
      "cell_type": "code",
      "source": [
        "for layer in feature_extractor.layers:\n",
        "  layer.trainable=False\n",
        "\n",
        "\n",
        "#feature_extractor.trainable=False"
      ],
      "metadata": {
        "id": "xtj4C69mjSfu"
      },
      "execution_count": 41,
      "outputs": []
    },
    {
      "cell_type": "code",
      "source": [
        "feature_extractor.summary()"
      ],
      "metadata": {
        "colab": {
          "base_uri": "https://localhost:8080/"
        },
        "id": "3gkt_-MLlYql",
        "outputId": "f0aee45b-9ce6-4f99-e759-915ac088d176"
      },
      "execution_count": 42,
      "outputs": [
        {
          "output_type": "stream",
          "name": "stdout",
          "text": [
            "Model: \"model\"\n",
            "_________________________________________________________________\n",
            " Layer (type)                Output Shape              Param #   \n",
            "=================================================================\n",
            " conv2d_input (InputLayer)   [(None, 28, 28, 1)]       0         \n",
            "                                                                 \n",
            " conv2d (Conv2D)             (None, 28, 28, 32)        320       \n",
            "                                                                 \n",
            " max_pooling2d (MaxPooling2D  (None, 14, 14, 32)       0         \n",
            " )                                                               \n",
            "                                                                 \n",
            " batch_normalization (BatchN  (None, 14, 14, 32)       128       \n",
            " ormalization)                                                   \n",
            "                                                                 \n",
            " conv2d_1 (Conv2D)           (None, 14, 14, 64)        18496     \n",
            "                                                                 \n",
            " max_pooling2d_1 (MaxPooling  (None, 7, 7, 64)         0         \n",
            " 2D)                                                             \n",
            "                                                                 \n",
            " dropout (Dropout)           (None, 7, 7, 64)          0         \n",
            "                                                                 \n",
            " conv2d_2 (Conv2D)           (None, 7, 7, 128)         73856     \n",
            "                                                                 \n",
            " max_pooling2d_2 (MaxPooling  (None, 3, 3, 128)        0         \n",
            " 2D)                                                             \n",
            "                                                                 \n",
            "=================================================================\n",
            "Total params: 92,800\n",
            "Trainable params: 0\n",
            "Non-trainable params: 92,800\n",
            "_________________________________________________________________\n"
          ]
        }
      ]
    },
    {
      "cell_type": "code",
      "source": [
        "model2 = Sequential()\n",
        "model2.add(feature_extractor)\n",
        "model2.add(layers.Conv2D(528, (3, 3), activation='relu'))\n",
        "model2.add(layers.Flatten())\n",
        "model2.add(layers.Dense(10, activation='softmax'))"
      ],
      "metadata": {
        "id": "hZLnrI_vldbe"
      },
      "execution_count": 46,
      "outputs": []
    },
    {
      "cell_type": "code",
      "source": [
        "model2.summary()"
      ],
      "metadata": {
        "colab": {
          "base_uri": "https://localhost:8080/"
        },
        "id": "6ZLrDNCClpve",
        "outputId": "4c339e93-8779-4776-a3ce-6ade94ab87ec"
      },
      "execution_count": 47,
      "outputs": [
        {
          "output_type": "stream",
          "name": "stdout",
          "text": [
            "Model: \"sequential_4\"\n",
            "_________________________________________________________________\n",
            " Layer (type)                Output Shape              Param #   \n",
            "=================================================================\n",
            " model (Functional)          (None, 3, 3, 128)         92800     \n",
            "                                                                 \n",
            " conv2d_6 (Conv2D)           (None, 1, 1, 528)         608784    \n",
            "                                                                 \n",
            " flatten_4 (Flatten)         (None, 528)               0         \n",
            "                                                                 \n",
            " dense_4 (Dense)             (None, 10)                5290      \n",
            "                                                                 \n",
            "=================================================================\n",
            "Total params: 706,874\n",
            "Trainable params: 614,074\n",
            "Non-trainable params: 92,800\n",
            "_________________________________________________________________\n"
          ]
        }
      ]
    },
    {
      "cell_type": "code",
      "source": [
        "model2.compile(optimizer='adam', loss='categorical_crossentropy' , metrics=['accuracy'])\n",
        "hist = model2.fit(concatenated_train_images, concatenated_train_lbl,validation_split=0.1, verbose=2 , epochs=5, batch_size=1)\n"
      ],
      "metadata": {
        "colab": {
          "base_uri": "https://localhost:8080/"
        },
        "id": "Q9cBh2i1ls4C",
        "outputId": "2e024434-ca65-4d36-b934-05fe1c0dae24"
      },
      "execution_count": 48,
      "outputs": [
        {
          "output_type": "stream",
          "name": "stdout",
          "text": [
            "Epoch 1/5\n",
            "18/18 - 1s - loss: 2.2996 - accuracy: 0.2222 - val_loss: 1.9578 - val_accuracy: 0.5000 - 1s/epoch - 76ms/step\n",
            "Epoch 2/5\n",
            "18/18 - 0s - loss: 1.4492 - accuracy: 0.5556 - val_loss: 1.5693 - val_accuracy: 0.5000 - 91ms/epoch - 5ms/step\n",
            "Epoch 3/5\n",
            "18/18 - 0s - loss: 0.9556 - accuracy: 0.9444 - val_loss: 1.3701 - val_accuracy: 0.5000 - 79ms/epoch - 4ms/step\n",
            "Epoch 4/5\n",
            "18/18 - 0s - loss: 0.6559 - accuracy: 0.9444 - val_loss: 0.6275 - val_accuracy: 1.0000 - 92ms/epoch - 5ms/step\n",
            "Epoch 5/5\n",
            "18/18 - 0s - loss: 0.4724 - accuracy: 1.0000 - val_loss: 0.5852 - val_accuracy: 1.0000 - 94ms/epoch - 5ms/step\n"
          ]
        }
      ]
    },
    {
      "cell_type": "code",
      "source": [],
      "metadata": {
        "id": "vt9NEhhemFBJ"
      },
      "execution_count": null,
      "outputs": []
    }
  ]
}