{
  "nbformat": 4,
  "nbformat_minor": 0,
  "metadata": {
    "colab": {
      "provenance": []
    },
    "kernelspec": {
      "name": "python3",
      "display_name": "Python 3"
    },
    "language_info": {
      "name": "python"
    }
  },
  "cells": [
    {
      "cell_type": "code",
      "source": [
        "import keras\n",
        "from keras.datasets import mnist\n",
        "import matplotlib.pyplot as plt\n",
        "from keras.layers import Conv2D, MaxPooling2D, Dense, Flatten, Dropout"
      ],
      "metadata": {
        "id": "Z7wc-LCTBEfP"
      },
      "execution_count": 1,
      "outputs": []
    },
    {
      "cell_type": "code",
      "source": [
        "(x_train, y_train), (x_test, y_test) = mnist.load_data()"
      ],
      "metadata": {
        "id": "4umXbrijCEIn",
        "colab": {
          "base_uri": "https://localhost:8080/"
        },
        "outputId": "d75eeaad-8c18-4f4b-8ead-5009c64ea9ec"
      },
      "execution_count": 2,
      "outputs": [
        {
          "output_type": "stream",
          "name": "stdout",
          "text": [
            "Downloading data from https://storage.googleapis.com/tensorflow/tf-keras-datasets/mnist.npz\n",
            "11490434/11490434 [==============================] - 0s 0us/step\n"
          ]
        }
      ]
    },
    {
      "cell_type": "code",
      "source": [
        "plt.imshow(x_train[0], cmap='gray')\n",
        "plt.show()"
      ],
      "metadata": {
        "colab": {
          "base_uri": "https://localhost:8080/",
          "height": 430
        },
        "id": "6s-nq9coCOQU",
        "outputId": "d0e980ac-8ae9-4795-b308-196efdb160a9"
      },
      "execution_count": 3,
      "outputs": [
        {
          "output_type": "display_data",
          "data": {
            "text/plain": [
              "<Figure size 640x480 with 1 Axes>"
            ],
            "image/png": "[encoded data removed]"
          },
          "metadata": {}
        }
      ]
    },
    {
      "cell_type": "code",
      "source": [
        "x_train = x_train.reshape(-1, 28, 28, 1)\n",
        "x_test = x_test.reshape(-1, 28, 28, 1)"
      ],
      "metadata": {
        "id": "i64RAExgGYJt"
      },
      "execution_count": 4,
      "outputs": []
    },
    {
      "cell_type": "code",
      "source": [
        "#model = keras.models.Sequential()\n",
        "\n",
        "#model.add(Conv2D(32, (3, 3), input_shape=(28, 28, 1), activation='relu'))\n",
        "#model.add(MaxPooling2D(pool_size=(2, 2)))\n",
        "#model.add(Conv2D(64, (3, 3), activation='relu'))\n",
        "#model.add(MaxPooling2D(pool_size=(2, 2)))\n",
        "#model.add(Flatten())\n",
        "#model.add(Dense(10, activation='softmax'))\n",
        "#model.compile(optimizer='adam', loss=\"sparse_categorical_crossentropy\", metrics=['accuracy'])\n",
        "\n"
      ],
      "metadata": {
        "id": "R-46fcDZCjxY"
      },
      "execution_count": 5,
      "outputs": []
    },
    {
      "cell_type": "code",
      "source": [
        "#model.fit(x_train, y_train, batch_size = 64, epochs = 1, validation_data=(x_test, y_test), verbose=1)"
      ],
      "metadata": {
        "id": "itt1NjJRD4Zx"
      },
      "execution_count": 6,
      "outputs": []
    },
    {
      "cell_type": "code",
      "source": [
        "!pip install keras_tuner --upgrade"
      ],
      "metadata": {
        "id": "bBCUk8IvddOj",
        "colab": {
          "base_uri": "https://localhost:8080/"
        },
        "outputId": "ffdd44af-9699-490b-b5cc-34bd3f8538ed"
      },
      "execution_count": 7,
      "outputs": [
        {
          "output_type": "stream",
          "name": "stdout",
          "text": [
            "Collecting keras_tuner\n",
            "  Downloading keras_tuner-1.3.5-py3-none-any.whl (176 kB)\n",
            "\u001b[2K     \u001b[90m━━━━━━━━━━━━━━━━━━━━━━━━━━━━━━━━━━━━━━━\u001b[0m \u001b[32m176.1/176.1 kB\u001b[0m \u001b[31m4.5 MB/s\u001b[0m eta \u001b[36m0:00:00\u001b[0m\n",
            "\u001b[?25hRequirement already satisfied: packaging in /usr/local/lib/python3.10/dist-packages (from keras_tuner) (23.1)\n",
            "Requirement already satisfied: requests in /usr/local/lib/python3.10/dist-packages (from keras_tuner) (2.27.1)\n",
            "Collecting kt-legacy (from keras_tuner)\n",
            "  Downloading kt_legacy-1.0.5-py3-none-any.whl (9.6 kB)\n",
            "Requirement already satisfied: urllib3<1.27,>=1.21.1 in /usr/local/lib/python3.10/dist-packages (from requests->keras_tuner) (1.26.16)\n",
            "Requirement already satisfied: certifi>=2017.4.17 in /usr/local/lib/python3.10/dist-packages (from requests->keras_tuner) (2023.5.7)\n",
            "Requirement already satisfied: charset-normalizer~=2.0.0 in /usr/local/lib/python3.10/dist-packages (from requests->keras_tuner) (2.0.12)\n",
            "Requirement already satisfied: idna<4,>=2.5 in /usr/local/lib/python3.10/dist-packages (from requests->keras_tuner) (3.4)\n",
            "Installing collected packages: kt-legacy, keras_tuner\n",
            "Successfully installed keras_tuner-1.3.5 kt-legacy-1.0.5\n"
          ]
        }
      ]
    },
    {
      "cell_type": "code",
      "source": [
        "def build_model(hp):\n",
        "  model = keras.models.Sequential()\n",
        "  model.add(Conv2D(hp.Int('Num_of_Kernel_1', min_value=10, max_value=200, step=10), (3, 3),\n",
        "                   input_shape=(28, 28, 1), activation='relu'))\n",
        "  model.add(MaxPooling2D(pool_size=(2, 2)))\n",
        "\n",
        "  if hp.Boolean('dropout'):\n",
        "    model.add(Dropout(0.2))\n",
        "\n",
        "\n",
        "  for i in range(hp.Int('number_of_conv2d', 2, 5)):\n",
        "      model.add(Conv2D(hp.Int(f'Num_of_Kernel_{i}', min_value=10, max_value=200, step=10), (3, 3), activation='relu'))\n",
        "\n",
        "\n",
        "  #model.add(MaxPooling2D(pool_size=(2, 2)))\n",
        "\n",
        "\n",
        "  model.add(Conv2D(64, (hp.Choice('x_kernel_size', [2, 3]), hp.Choice('y_kernel_size', [2, 3])), activation=hp.Choice('activation_2', values=['relu', 'tanh'])))\n",
        "  model.add(MaxPooling2D(pool_size=(2, 2)))\n",
        "  model.add(Dropout(hp.Float('Dropout_rate', min_value=0.1, max_value=0.9, step=0.1)))\n",
        "  model.add(Flatten())\n",
        "  model.add(Dense(10, activation='softmax'))\n",
        "  model.compile(optimizer= hp.Choice('optimizer', values=['adam', 'sgd']), loss=\"sparse_categorical_crossentropy\", metrics=['accuracy'])\n",
        "  return model\n"
      ],
      "metadata": {
        "id": "06gMrVJW8l4F"
      },
      "execution_count": 12,
      "outputs": []
    },
    {
      "cell_type": "code",
      "source": [
        "#model = build_model()\n",
        "#model.fit(x_train, y_train, batch_size=32, epochs=1, validation_data=(x_test, y_test), verbose=1)"
      ],
      "metadata": {
        "id": "PJKsJqoN9Mie"
      },
      "execution_count": 13,
      "outputs": []
    },
    {
      "cell_type": "code",
      "source": [
        "from keras_tuner.tuners import RandomSearch\n",
        "tuner = RandomSearch(build_model, objective='val_accuracy', max_trials=1)\n",
        "tuner.search(x=x_train, y=y_train, epochs=1, batch_size=64, validation_data=(x_test, y_test))"
      ],
      "metadata": {
        "colab": {
          "base_uri": "https://localhost:8080/"
        },
        "id": "x2tfR2iy9f7B",
        "outputId": "2f560e45-241e-465c-fc72-c02ebcc34822"
      },
      "execution_count": 14,
      "outputs": [
        {
          "output_type": "stream",
          "name": "stdout",
          "text": [
            "Trial 1 Complete [00h 03m 24s]\n",
            "val_accuracy: 0.9704999923706055\n",
            "\n",
            "Best val_accuracy So Far: 0.9704999923706055\n",
            "Total elapsed time: 00h 03m 24s\n"
          ]
        }
      ]
    },
    {
      "cell_type": "code",
      "source": [
        "tuner.results_summary()"
      ],
      "metadata": {
        "colab": {
          "base_uri": "https://localhost:8080/"
        },
        "id": "3mebIpPHAIhr",
        "outputId": "a3ad0fd2-f7e5-49af-c918-3579fd9eda9d"
      },
      "execution_count": 15,
      "outputs": [
        {
          "output_type": "stream",
          "name": "stdout",
          "text": [
            "Results summary\n",
            "Results in ./untitled_project\n",
            "Showing 10 best trials\n",
            "Objective(name=\"val_accuracy\", direction=\"max\")\n",
            "\n",
            "Trial 0 summary\n",
            "Hyperparameters:\n",
            "Num_of_Kernel_1: 120\n",
            "dropout: False\n",
            "number_of_conv2d: 4\n",
            "Num_of_Kernel_0: 20\n",
            "x_kernel_size: 2\n",
            "y_kernel_size: 2\n",
            "activation_2: tanh\n",
            "Dropout_rate: 0.7000000000000001\n",
            "optimizer: adam\n",
            "Num_of_Kernel_2: 10\n",
            "Num_of_Kernel_3: 10\n",
            "Score: 0.9704999923706055\n"
          ]
        }
      ]
    },
    {
      "cell_type": "code",
      "source": [],
      "metadata": {
        "id": "L4JxgIITNBuS"
      },
      "execution_count": null,
      "outputs": []
    },
    {
      "cell_type": "code",
      "source": [
        "def build_model():\n",
        "  model = keras.models.Sequential()\n",
        "  model.add(Conv2D(120, (3, 3),\n",
        "                   input_shape=(28, 28, 1), activation='relu'))\n",
        "  model.add(MaxPooling2D(pool_size=(2, 2)))\n",
        "  model.add(Conv2D(20, (3, 3), activation='relu'))\n",
        "  model.add(Conv2D(10, (3, 3), activation='relu'))\n",
        "  model.add(Conv2D(10, (3, 3), activation='relu'))\n",
        "\n",
        "\n",
        "  #model.add(MaxPooling2D(pool_size=(2, 2)))\n",
        "\n",
        "\n",
        "  model.add(Conv2D(64, (2, 2), activation= 'tanh'))\n",
        "  model.add(MaxPooling2D(pool_size=(2, 2)))\n",
        "  model.add(Dropout(0.7))\n",
        "  model.add(Flatten())\n",
        "  model.add(Dense(10, activation='softmax'))\n",
        "  model.compile(optimizer= 'adam', loss=\"sparse_categorical_crossentropy\", metrics=['accuracy'])\n",
        "  return model"
      ],
      "metadata": {
        "id": "koMxPGVCBZm1"
      },
      "execution_count": 16,
      "outputs": []
    },
    {
      "cell_type": "code",
      "source": [],
      "metadata": {
        "id": "3for0_GHN9iB"
      },
      "execution_count": null,
      "outputs": []
    }
  ]
}