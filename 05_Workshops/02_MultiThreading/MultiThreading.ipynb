{
 "cells": [
  {
   "cell_type": "code",
   "execution_count": 1,
   "id": "41b69ce8",
   "metadata": {},
   "outputs": [],
   "source": [
    "# Sequential Programming ---> one person, single task!\n",
    "# MultiThreading ---> one person, multi tasks! "
   ]
  },
  {
   "cell_type": "code",
   "execution_count": 2,
   "id": "48cfcabb",
   "metadata": {},
   "outputs": [],
   "source": [
    "def wash_carpet():\n",
    "    print('wash_carpet, s1: Spread the carpet!')\n",
    "    print('wash_carpet, s2: Sweep the carpet!')\n",
    "    print('wash_carpet, s3: Wet the carpet!')\n",
    "    print('wash_carpet, s4: Pour detergents on the carpet!')\n",
    "    print('wash_carpet, s5: Wash the carpet!')"
   ]
  },
  {
   "cell_type": "code",
   "execution_count": 3,
   "id": "ddbed637",
   "metadata": {},
   "outputs": [],
   "source": [
    "def clean_window():\n",
    "    print('clean_window, s1: Open the window!')\n",
    "    print('clean_window, s2: Pour galss cleaner!')\n",
    "    print('clean_window, s3: Wipe the glass!')\n",
    "    "
   ]
  },
  {
   "cell_type": "code",
   "execution_count": 4,
   "id": "7a3aa173",
   "metadata": {},
   "outputs": [
    {
     "name": "stdout",
     "output_type": "stream",
     "text": [
      "wash_carpet, s1: Spread the carpet!\n",
      "wash_carpet, s2: Sweep the carpet!\n",
      "wash_carpet, s3: Wet the carpet!\n",
      "wash_carpet, s4: Pour detergents on the carpet!\n",
      "wash_carpet, s5: Wash the carpet!\n",
      "clean_window, s1: Open the window!\n",
      "clean_window, s2: Pour galss cleaner!\n",
      "clean_window, s3: Wipe the glass!\n",
      "Duration:  0.00014543533325195312\n"
     ]
    }
   ],
   "source": [
    "#Sequential!\n",
    "\n",
    "import time\n",
    "import numpy as np \n",
    "\n",
    "start = time.time()\n",
    "\n",
    "wash_carpet()\n",
    "clean_window()\n",
    "\n",
    "end =  time.time()\n",
    "\n",
    "print('Duration: ', end - start)"
   ]
  },
  {
   "cell_type": "code",
   "execution_count": 5,
   "id": "3da245f3",
   "metadata": {},
   "outputs": [
    {
     "name": "stdout",
     "output_type": "stream",
     "text": [
      "wash_carpet, s1: Spread the carpet!\n",
      "wash_carpet, s2: Sweep the carpet!\n",
      "wash_carpet, s3: Wet the carpet!\n",
      "wash_carpet, s4: Pour detergents on the carpet!\n",
      "wash_carpet, s5: Wash the carpet!\n",
      "clean_window, s1: Open the window!\n",
      "clean_window, s2: Pour galss cleaner!\n",
      "clean_window, s3: Wipe the glass!\n",
      "Duration:  0.0021033287048339844\n"
     ]
    }
   ],
   "source": [
    "import threading\n",
    "\n",
    "start = time.time()\n",
    "\n",
    "task1 = threading.Thread(target=wash_carpet)\n",
    "task2 = threading.Thread(target=clean_window)\n",
    "\n",
    "task1.start()\n",
    "task2.start()\n",
    "\n",
    "end =  time.time()\n",
    "print('Duration: ', end - start)"
   ]
  },
  {
   "cell_type": "code",
   "execution_count": 9,
   "id": "82dcc0b3",
   "metadata": {},
   "outputs": [],
   "source": [
    "def make_lunch():\n",
    "    print('make_lunch, s1: Chop the vegetables!')\n",
    "    print('make_lunch, s2: Pour the veg. and wait until boiling water!')\n",
    "    time.sleep(5)\n",
    "    print('make_lunch, s3: The lunch is ready')\n",
    "    print('make_lunch, s4: Eat!')\n"
   ]
  },
  {
   "cell_type": "code",
   "execution_count": 10,
   "id": "a6eb6ac5",
   "metadata": {},
   "outputs": [
    {
     "name": "stdout",
     "output_type": "stream",
     "text": [
      "make_lunch, s1: Chop the vegetables!clean_window, s1: Open the window!\n",
      "clean_window, s2: Pour galss cleaner!\n",
      "clean_window, s3: Wipe the glass!\n",
      "\n",
      "make_lunch, s2: Pour the veg. and wait until boiling water!\n",
      "wash_carpet, s1: Spread the carpet!\n",
      "wash_carpet, s2: Sweep the carpet!\n",
      "wash_carpet, s3: Wet the carpet!\n",
      "wash_carpet, s4: Pour detergents on the carpet!\n",
      "wash_carpet, s5: Wash the carpet!\n",
      "make_lunch, s3: The lunch is ready\n",
      "make_lunch, s4: Eat!\n",
      "Duration:  5.012165307998657\n"
     ]
    }
   ],
   "source": [
    "start = time.time()\n",
    "\n",
    "task1 = threading.Thread(target=make_lunch)\n",
    "task2 = threading.Thread(target=clean_window)\n",
    "task3 = threading.Thread(target= wash_carpet)\n",
    "\n",
    "task1.start()\n",
    "task2.start()\n",
    "task3.start()\n",
    "\n",
    "\n",
    "\n",
    "task1.join()\n",
    "task2.join()\n",
    "task3.join()\n",
    "\n",
    "\n",
    "end =  time.time()\n",
    "print('Duration: ', end - start)"
   ]
  },
  {
   "cell_type": "code",
   "execution_count": 15,
   "id": "4f3ed2a0",
   "metadata": {},
   "outputs": [],
   "source": [
    "def invite_guest(name):\n",
    "    print(f'invite_guest, s1: Write invitation for {name}!')\n",
    "    print(f'invite_guest, s2: Send invitation to {name}!')\n",
    "    print(f'invite_guest, s3: Wait for the {name}\\'s answer!')\n",
    "    time.sleep(2)\n",
    "    print(f'invite_guest, s4: Bake cookies for {name}')"
   ]
  },
  {
   "cell_type": "code",
   "execution_count": 16,
   "id": "3067e7c8",
   "metadata": {},
   "outputs": [
    {
     "name": "stdout",
     "output_type": "stream",
     "text": [
      "invite_guest, s1: Write invitation for Ali!\n",
      "invite_guest, s2: Send invitation to Ali!\n",
      "invite_guest, s3: Wait for the Ali's answer!\n",
      "invite_guest, s4: Bake cookies for Ali\n"
     ]
    }
   ],
   "source": [
    "task1 = threading.Thread(target=invite_guest, args=('Ali',))\n",
    "task1.start()\n",
    "task1.join()"
   ]
  },
  {
   "cell_type": "code",
   "execution_count": 19,
   "id": "e2d042d0",
   "metadata": {},
   "outputs": [
    {
     "name": "stdout",
     "output_type": "stream",
     "text": [
      "invite_guest, s1: Write invitation for Amoo1!\n",
      "invite_guest, s2: Send invitation to Amoo1!\n",
      "invite_guest, s3: Wait for the Amoo1's answer!\n",
      "invite_guest, s1: Write invitation for Amoo2!\n",
      "invite_guest, s2: Send invitation to Amoo2!\n",
      "invite_guest, s3: Wait for the Amoo2's answer!\n",
      "invite_guest, s1: Write invitation for Khale!\n",
      "invite_guest, s2: Send invitation to Khale!\n",
      "invite_guest, s3: Wait for the Khale's answer!\n",
      "invite_guest, s1: Write invitation for Daei1!\n",
      "invite_guest, s2: Send invitation to Daei1!\n",
      "invite_guest, s3: Wait for the Daei1's answer!\n",
      "invite_guest, s1: Write invitation for Daei2!\n",
      "invite_guest, s2: Send invitation to Daei2!\n",
      "invite_guest, s3: Wait for the Daei2's answer!\n",
      "invite_guest, s1: Write invitation for Maman_Bozorg!\n",
      "invite_guest, s2: Send invitation to Maman_Bozorg!\n",
      "invite_guest, s3: Wait for the Maman_Bozorg's answer!\n",
      "invite_guest, s4: Bake cookies for Amoo1\n",
      "invite_guest, s4: Bake cookies for Khale\n",
      "invite_guest, s4: Bake cookies for Daei1\n",
      "invite_guest, s4: Bake cookies for Amoo2\n",
      "invite_guest, s4: Bake cookies for Maman_Bozorg\n",
      "invite_guest, s4: Bake cookies for Daei2\n",
      "Duration:  2.0079479217529297\n"
     ]
    }
   ],
   "source": [
    "start = time.time()\n",
    "\n",
    "names = ['Amoo1', 'Amoo2', 'Khale', 'Daei1', 'Daei2', 'Maman_Bozorg']\n",
    "tasks=[]\n",
    "\n",
    "\n",
    "\n",
    "for name in names:\n",
    "    task = threading.Thread(target=invite_guest, args=(name, ))\n",
    "    task.start()\n",
    "    tasks.append(task)\n",
    "\n",
    "for task in tasks:\n",
    "    task.join()\n",
    "\n",
    "end =  time.time()\n",
    "print('Duration: ', end - start)\n",
    "    \n"
   ]
  },
  {
   "cell_type": "code",
   "execution_count": 23,
   "id": "a5ac7e79",
   "metadata": {},
   "outputs": [
    {
     "name": "stdout",
     "output_type": "stream",
     "text": [
      "invite_guest, s1: Write invitation for Yasin!\n",
      "invite_guest, s2: Send invitation to Yasin!\n",
      "invite_guest, s3: Wait for the Yasin's answer!\n",
      "invite_guest, s4: Bake cookies for Yasin\n"
     ]
    }
   ],
   "source": [
    "import concurrent.futures\n",
    "\n",
    "with concurrent.futures.ThreadPoolExecutor() as executer:\n",
    "    task = executer.submit(invite_guest, 'Yasin')\n",
    "    task.result()"
   ]
  },
  {
   "cell_type": "code",
   "execution_count": 25,
   "id": "1d5a0e03",
   "metadata": {},
   "outputs": [],
   "source": [
    "def invite_guest_with_return(name):\n",
    "    print(f'invite_guest, s1: Write invitation for {name}!')\n",
    "    print(f'invite_guest, s2: Send invitation to {name}!')\n",
    "    print(f'invite_guest, s3: Wait for the {name}\\'s answer!')\n",
    "    time.sleep(2)\n",
    "    print(f'invite_guest, s4: Bake cookies for {name}')\n",
    "    return 'Done'"
   ]
  },
  {
   "cell_type": "code",
   "execution_count": 27,
   "id": "52a6928a",
   "metadata": {},
   "outputs": [
    {
     "name": "stdout",
     "output_type": "stream",
     "text": [
      "invite_guest, s1: Write invitation for Amoo1!\n",
      "invite_guest, s2: Send invitation to Amoo1!\n",
      "invite_guest, s3: Wait for the Amoo1's answer!\n",
      "invite_guest, s1: Write invitation for Amoo2!\n",
      "invite_guest, s2: Send invitation to Amoo2!\n",
      "invite_guest, s3: Wait for the Amoo2's answer!\n",
      "invite_guest, s1: Write invitation for Khale!\n",
      "invite_guest, s2: Send invitation to Khale!\n",
      "invite_guest, s3: Wait for the Khale's answer!\n",
      "invite_guest, s1: Write invitation for Daei1!\n",
      "invite_guest, s2: Send invitation to Daei1!\n",
      "invite_guest, s3: Wait for the Daei1's answer!\n",
      "invite_guest, s1: Write invitation for Daei2!\n",
      "invite_guest, s2: Send invitation to Daei2!\n",
      "invite_guest, s3: Wait for the Daei2's answer!\n",
      "invite_guest, s1: Write invitation for Maman_Bozorg!\n",
      "invite_guest, s2: Send invitation to Maman_Bozorg!\n",
      "invite_guest, s3: Wait for the Maman_Bozorg's answer!\n",
      "invite_guest, s4: Bake cookies for Amoo1\n",
      "Done\n",
      "invite_guest, s4: Bake cookies for Amoo2\n",
      "Done\n",
      "invite_guest, s4: Bake cookies for Daei1\n",
      "invite_guest, s4: Bake cookies for Khale\n",
      "Done\n",
      "Done\n",
      "invite_guest, s4: Bake cookies for Daei2\n",
      "Done\n",
      "invite_guest, s4: Bake cookies for Maman_Bozorg\n",
      "Done\n",
      "Duration:  2.0167737007141113\n"
     ]
    }
   ],
   "source": [
    "start = time.time()\n",
    "\n",
    "names = ['Amoo1', 'Amoo2', 'Khale', 'Daei1', 'Daei2', 'Maman_Bozorg']\n",
    "\n",
    "with concurrent.futures.ThreadPoolExecutor() as executer:\n",
    "    tasks = [executer.submit(invite_guest_with_return, name) for name in names]\n",
    "    \n",
    "    \n",
    "    for task in concurrent.futures.as_completed(tasks):\n",
    "        print(task.result())\n",
    "\n",
    "    \n",
    "end =  time.time()\n",
    "print('Duration: ', end - start)"
   ]
  },
  {
   "cell_type": "code",
   "execution_count": null,
   "id": "63af053c",
   "metadata": {},
   "outputs": [],
   "source": [
    "txt = open('note.txt', 'w')\n",
    "txt.write('sssss')\n",
    "txt.close()\n",
    "\n",
    "\n",
    "#with\n",
    "with open('note.txt', 'w') as txt:\n",
    "    txt.write('sssss')\n"
   ]
  },
  {
   "cell_type": "code",
   "execution_count": 29,
   "id": "6748b36d",
   "metadata": {},
   "outputs": [],
   "source": [
    "import glob\n",
    "from PIL import Image"
   ]
  },
  {
   "cell_type": "code",
   "execution_count": 33,
   "id": "afe4f537",
   "metadata": {},
   "outputs": [
    {
     "name": "stdout",
     "output_type": "stream",
     "text": [
      "Duration:  14.56768274307251\n"
     ]
    }
   ],
   "source": [
    "start = time.time()\n",
    "\n",
    "def process_image(image_path):\n",
    "    with Image.open(image_path) as img:\n",
    "        img = img.rotate(90)\n",
    "        #img.save(f'processed_{image_path}')\n",
    "        \n",
    "image_paths= glob.glob('*.jpg')\n",
    "\n",
    "for path in image_paths:\n",
    "    process_image(path)\n",
    "\n",
    "end = time.time()\n",
    "\n",
    "print('Duration: ', end - start)"
   ]
  },
  {
   "cell_type": "code",
   "execution_count": 34,
   "id": "c3cd3dbb",
   "metadata": {},
   "outputs": [
    {
     "name": "stdout",
     "output_type": "stream",
     "text": [
      "Duration:  6.649382829666138\n"
     ]
    }
   ],
   "source": [
    "\n",
    "start = time.time()\n",
    "\n",
    "def process_image(image_path):\n",
    "    with Image.open(image_path) as img:\n",
    "        img = img.rotate(90)\n",
    "        #img.save(f'processed_{image_path}')\n",
    "        \n",
    "        \n",
    "image_paths= glob.glob('*.jpg')\n",
    "threads = []\n",
    "\n",
    "for path in image_paths:\n",
    "    thread = threading.Thread(target=process_image, args=(path,))\n",
    "    thread.start()\n",
    "    threads.append(thread)\n",
    "    \n",
    "for thread in threads:\n",
    "    thread.join()\n",
    "\n",
    "    \n",
    "\n",
    "\n",
    "\n",
    "end = time.time()\n",
    "print('Duration: ', end - start)"
   ]
  },
  {
   "cell_type": "code",
   "execution_count": null,
   "id": "6aff2116",
   "metadata": {},
   "outputs": [],
   "source": []
  },
  {
   "cell_type": "code",
   "execution_count": null,
   "id": "fbcdddf1",
   "metadata": {},
   "outputs": [],
   "source": []
  },
  {
   "cell_type": "code",
   "execution_count": null,
   "id": "d6c5c261",
   "metadata": {},
   "outputs": [],
   "source": []
  },
  {
   "cell_type": "code",
   "execution_count": null,
   "id": "1227cc84",
   "metadata": {},
   "outputs": [],
   "source": []
  }
 ],
 "metadata": {
  "kernelspec": {
   "display_name": "Python 3 (ipykernel)",
   "language": "python",
   "name": "python3"
  },
  "language_info": {
   "codemirror_mode": {
    "name": "ipython",
    "version": 3
   },
   "file_extension": ".py",
   "mimetype": "text/x-python",
   "name": "python",
   "nbconvert_exporter": "python",
   "pygments_lexer": "ipython3",
   "version": "3.10.6"
  }
 },
 "nbformat": 4,
 "nbformat_minor": 5
}
