{
  "nbformat": 4,
  "nbformat_minor": 0,
  "metadata": {
    "colab": {
      "provenance": [],
      "machine_shape": "hm",
      "gpuType": "A100"
    },
    "kernelspec": {
      "name": "python3",
      "display_name": "Python 3"
    },
    "language_info": {
      "name": "python"
    },
    "gpuClass": "standard",
    "accelerator": "GPU"
  },
  "cells": [
    {
      "cell_type": "code",
      "execution_count": null,
      "metadata": {
        "colab": {
          "base_uri": "https://localhost:8080/"
        },
        "id": "weJZl00PxfpU",
        "outputId": "97f94a98-1611-454b-ce98-6ec75572de01"
      },
      "outputs": [
        {
          "output_type": "stream",
          "name": "stdout",
          "text": [
            "array_1:  [0.70436727 0.70169767 0.39008446 0.8444052  0.58743137]\n",
            "array_2:  [0.3043458  0.08829642 0.56558983 0.59365593 0.68106689]\n",
            "result:  [1.00871307 0.7899941  0.95567429 1.43806114 1.26849826]\n"
          ]
        }
      ],
      "source": [
        "import numpy as np\n",
        "\n",
        "array_1 = np.random.rand(5)\n",
        "array_2 = np.random.rand(5)\n",
        "\n",
        "result = array_1 + array_2\n",
        "\n",
        "\n",
        "print('array_1: ', array_1)\n",
        "print('array_2: ', array_2)\n",
        "print('result: ', result)"
      ]
    },
    {
      "cell_type": "code",
      "source": [
        "!pip install pycuda"
      ],
      "metadata": {
        "colab": {
          "base_uri": "https://localhost:8080/"
        },
        "id": "ywgXbcptDzVl",
        "outputId": "1a572f06-11e8-4dc8-a478-951d1933c01b"
      },
      "execution_count": null,
      "outputs": [
        {
          "output_type": "stream",
          "name": "stdout",
          "text": [
            "Looking in indexes: https://pypi.org/simple, https://us-python.pkg.dev/colab-wheels/public/simple/\n",
            "Requirement already satisfied: pycuda in /usr/local/lib/python3.10/dist-packages (2022.2.2)\n",
            "Requirement already satisfied: pytools>=2011.2 in /usr/local/lib/python3.10/dist-packages (from pycuda) (2022.1.14)\n",
            "Requirement already satisfied: appdirs>=1.4.0 in /usr/local/lib/python3.10/dist-packages (from pycuda) (1.4.4)\n",
            "Requirement already satisfied: mako in /usr/local/lib/python3.10/dist-packages (from pycuda) (1.2.4)\n",
            "Requirement already satisfied: platformdirs>=2.2.0 in /usr/local/lib/python3.10/dist-packages (from pytools>=2011.2->pycuda) (3.3.0)\n",
            "Requirement already satisfied: typing-extensions>=4.0 in /usr/local/lib/python3.10/dist-packages (from pytools>=2011.2->pycuda) (4.5.0)\n",
            "Requirement already satisfied: MarkupSafe>=0.9.2 in /usr/local/lib/python3.10/dist-packages (from mako->pycuda) (2.1.2)\n"
          ]
        }
      ]
    },
    {
      "cell_type": "code",
      "source": [
        "import numpy as np\n",
        "import pycuda.driver as cuda\n",
        "import pycuda.autoinit\n",
        "from pycuda.compiler import SourceModule\n",
        "\n",
        "array_1 = np.random.rand(5).astype(np.float32)\n",
        "array_2 = np.random.rand(5).astype(np.float32)\n",
        "\n",
        "# Allocate GPU memory for arrays\n",
        "array_1_gpu = cuda.mem_alloc(array_1.nbytes)\n",
        "array_2_gpu = cuda.mem_alloc(array_2.nbytes)\n",
        "result_gpu = cuda.mem_alloc(array_1.nbytes)\n",
        "\n",
        "\n",
        "#Copy data to GPU memory\n",
        "cuda.memcpy_htod(array_1_gpu, array_1)\n",
        "cuda.memcpy_htod(array_2_gpu, array_2)\n",
        "\n",
        "\n",
        "\n",
        "#Kernel\n",
        "kernel_code = \"\"\"\n",
        "__global__ void add_arrays(float *array1, float *array2, float *result){\n",
        "  int tid = blockIdx.x * blockDim.x + threadIdx.x;\n",
        "  result[tid] = array1[tid] + array2[tid];\n",
        "}\n",
        "\"\"\"\n",
        "\n",
        "\n",
        "mod = SourceModule(kernel_code)\n",
        "add_arrays = mod.get_function('add_arrays')\n",
        "\n",
        "\n",
        "block = (5, 1, 1)\n",
        "grid =(5, 1)\n",
        "\n",
        "\n",
        "add_arrays(array_1_gpu, array_2_gpu, result_gpu, block=block, grid=grid)\n",
        "\n",
        "result = np.empty_like(array_1)\n",
        "\n",
        "cuda.memcpy_dtoh(result, result_gpu)\n",
        "\n",
        "\n",
        "\n",
        "print('array_1: ', array_1)\n",
        "print('array_2: ', array_2)\n",
        "print('result: ', np.round(result, 4))\n",
        "\n"
      ],
      "metadata": {
        "colab": {
          "base_uri": "https://localhost:8080/"
        },
        "id": "EtCsPva1D_QE",
        "outputId": "36c4704a-51ea-4185-ae10-697d811c93d6"
      },
      "execution_count": null,
      "outputs": [
        {
          "output_type": "stream",
          "name": "stdout",
          "text": [
            "array_1:  [0.26991558 0.33843374 0.27491134 0.0345143  0.45463845]\n",
            "array_2:  [0.6686083  0.88990337 0.9188843  0.39154232 0.7492851 ]\n",
            "result:  [0.9385 1.2283 1.1938 0.4261 1.2039]\n"
          ]
        },
        {
          "output_type": "stream",
          "name": "stderr",
          "text": [
            "/usr/local/lib/python3.10/dist-packages/google/colab/_variable_inspector.py:27: UserWarning: device_allocation in out-of-thread context could not be cleaned up\n",
            "  globals().clear()\n"
          ]
        }
      ]
    },
    {
      "cell_type": "code",
      "source": [],
      "metadata": {
        "id": "CtuFltTkJWdH"
      },
      "execution_count": null,
      "outputs": []
    }
  ]
}