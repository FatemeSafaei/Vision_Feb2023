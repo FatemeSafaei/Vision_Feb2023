{
  "nbformat": 4,
  "nbformat_minor": 0,
  "metadata": {
    "colab": {
      "provenance": []
    },
    "kernelspec": {
      "name": "python3",
      "display_name": "Python 3"
    },
    "language_info": {
      "name": "python"
    }
  },
  "cells": [
    {
      "cell_type": "code",
      "execution_count": 1,
      "metadata": {
        "id": "4MHZ4tkujGwn"
      },
      "outputs": [],
      "source": [
        "import tensorflow as tf\n"
      ]
    },
    {
      "cell_type": "code",
      "source": [
        "images = tf.constant([\n",
        "    [1, 2, 3], \n",
        "    [4, 5, 6], \n",
        "    [7, 8, 9]\n",
        "])\n",
        "\n",
        "labels = tf.constant([0, 1, 1])"
      ],
      "metadata": {
        "id": "VsqDdNF-sjGM"
      },
      "execution_count": 2,
      "outputs": []
    },
    {
      "cell_type": "code",
      "source": [
        "dataset = tf.data.Dataset.from_tensor_slices((images, labels))\n",
        "for elements in dataset:\n",
        "  for element in elements:\n",
        "    print(element.numpy())\n",
        "  "
      ],
      "metadata": {
        "colab": {
          "base_uri": "https://localhost:8080/"
        },
        "id": "1cB8S8mKtVH2",
        "outputId": "e3bb64b2-0205-4f75-c610-c7beed325e2d"
      },
      "execution_count": 3,
      "outputs": [
        {
          "output_type": "stream",
          "name": "stdout",
          "text": [
            "[1 2 3]\n",
            "0\n",
            "[4 5 6]\n",
            "1\n",
            "[7 8 9]\n",
            "1\n"
          ]
        }
      ]
    },
    {
      "cell_type": "code",
      "source": [
        "dataset = dataset.shuffle(buffer_size=3).batch(2)\n"
      ],
      "metadata": {
        "id": "Kdnfk5n7tWJQ"
      },
      "execution_count": 4,
      "outputs": []
    },
    {
      "cell_type": "code",
      "source": [
        "first_batch = dataset.take(1)\n",
        "for elements in first_batch:\n",
        "  for element in elements:\n",
        "    print('first batch: ', element.numpy())\n",
        "  "
      ],
      "metadata": {
        "colab": {
          "base_uri": "https://localhost:8080/"
        },
        "id": "a-jfLsDstWMZ",
        "outputId": "41e23f00-cd84-4d4a-c442-65f7cbef0558"
      },
      "execution_count": 5,
      "outputs": [
        {
          "output_type": "stream",
          "name": "stdout",
          "text": [
            "first batch:  [[4 5 6]\n",
            " [1 2 3]]\n",
            "first batch:  [1 0]\n"
          ]
        }
      ]
    },
    {
      "cell_type": "code",
      "source": [
        "dataset = dataset.repeat(3)\n",
        "for elements in dataset:\n",
        "  for element in elements:\n",
        "    print('repeated_ds: ', element.numpy())"
      ],
      "metadata": {
        "colab": {
          "base_uri": "https://localhost:8080/"
        },
        "id": "QP1m1PCAtWPm",
        "outputId": "80fa1611-11ec-4a7e-958c-acd1e24f6cbb"
      },
      "execution_count": 6,
      "outputs": [
        {
          "output_type": "stream",
          "name": "stdout",
          "text": [
            "repeated_ds:  [[4 5 6]\n",
            " [1 2 3]]\n",
            "repeated_ds:  [1 0]\n",
            "repeated_ds:  [[7 8 9]]\n",
            "repeated_ds:  [1]\n",
            "repeated_ds:  [[7 8 9]\n",
            " [4 5 6]]\n",
            "repeated_ds:  [1 1]\n",
            "repeated_ds:  [[1 2 3]]\n",
            "repeated_ds:  [0]\n",
            "repeated_ds:  [[1 2 3]\n",
            " [7 8 9]]\n",
            "repeated_ds:  [0 1]\n",
            "repeated_ds:  [[4 5 6]]\n",
            "repeated_ds:  [1]\n"
          ]
        }
      ]
    },
    {
      "cell_type": "code",
      "source": [
        "extra_labels = tf.constant([2, 5, 8])\n",
        "extra_dataset = tf.data.Dataset.from_tensor_slices(extra_labels)\n",
        "\n",
        "zipped_dataset = tf.data.Dataset.zip((dataset, extra_dataset))\n"
      ],
      "metadata": {
        "id": "oS6D_nzVtWSG"
      },
      "execution_count": 7,
      "outputs": []
    },
    {
      "cell_type": "code",
      "source": [
        "taken_dataset = zipped_dataset.take(5)\n",
        "for elements in taken_dataset:\n",
        "  for element in elements:\n",
        "    print('repeated_ds: ', element)\n",
        "    "
      ],
      "metadata": {
        "colab": {
          "base_uri": "https://localhost:8080/"
        },
        "id": "2r7tQXMCx082",
        "outputId": "fc4f63e8-fdb4-4d52-c708-bba5cb9270f4"
      },
      "execution_count": 9,
      "outputs": [
        {
          "output_type": "stream",
          "name": "stdout",
          "text": [
            "repeated_ds:  (<tf.Tensor: shape=(2, 3), dtype=int32, numpy=\n",
            "array([[1, 2, 3],\n",
            "       [7, 8, 9]], dtype=int32)>, <tf.Tensor: shape=(2,), dtype=int32, numpy=array([0, 1], dtype=int32)>)\n",
            "repeated_ds:  tf.Tensor(2, shape=(), dtype=int32)\n",
            "repeated_ds:  (<tf.Tensor: shape=(1, 3), dtype=int32, numpy=array([[4, 5, 6]], dtype=int32)>, <tf.Tensor: shape=(1,), dtype=int32, numpy=array([1], dtype=int32)>)\n",
            "repeated_ds:  tf.Tensor(5, shape=(), dtype=int32)\n",
            "repeated_ds:  (<tf.Tensor: shape=(2, 3), dtype=int32, numpy=\n",
            "array([[4, 5, 6],\n",
            "       [7, 8, 9]], dtype=int32)>, <tf.Tensor: shape=(2,), dtype=int32, numpy=array([1, 1], dtype=int32)>)\n",
            "repeated_ds:  tf.Tensor(8, shape=(), dtype=int32)\n"
          ]
        }
      ]
    },
    {
      "cell_type": "code",
      "source": [
        "cached_dataset = taken_dataset.cache()"
      ],
      "metadata": {
        "id": "2KZtSCKnx1H2"
      },
      "execution_count": 10,
      "outputs": []
    },
    {
      "cell_type": "code",
      "source": [
        "prefetch_dataset = cached_dataset.prefetch(tf.data.experimental.AUTOTUNE)"
      ],
      "metadata": {
        "id": "oHA442qwx1Nw"
      },
      "execution_count": 11,
      "outputs": []
    },
    {
      "cell_type": "code",
      "source": [
        "for element in prefetch_dataset:\n",
        "  (image, label), extra_lable = element\n",
        "  print('image: ', image.numpy())\n",
        "  print('label: ', label.numpy())\n",
        "  print('extra_lable', extra_lable.numpy())\n",
        "\n",
        "  "
      ],
      "metadata": {
        "colab": {
          "base_uri": "https://localhost:8080/"
        },
        "id": "EPckEPihx1S0",
        "outputId": "61b9c89f-e8d7-4bb1-ef87-0518962f4a5c"
      },
      "execution_count": 13,
      "outputs": [
        {
          "output_type": "stream",
          "name": "stdout",
          "text": [
            "image:  [[4 5 6]\n",
            " [7 8 9]]\n",
            "label:  [1 1]\n",
            "extra_lable 2\n",
            "image:  [[1 2 3]]\n",
            "label:  [0]\n",
            "extra_lable 5\n",
            "image:  [[1 2 3]\n",
            " [4 5 6]]\n",
            "label:  [0 1]\n",
            "extra_lable 8\n"
          ]
        }
      ]
    },
    {
      "cell_type": "code",
      "source": [
        "#end"
      ],
      "metadata": {
        "id": "MxS4ooUr2rYb"
      },
      "execution_count": null,
      "outputs": []
    }
  ]
}