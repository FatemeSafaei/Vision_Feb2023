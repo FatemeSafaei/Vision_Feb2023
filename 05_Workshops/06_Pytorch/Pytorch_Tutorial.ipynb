{
  "nbformat": 4,
  "nbformat_minor": 0,
  "metadata": {
    "colab": {
      "provenance": []
    },
    "kernelspec": {
      "name": "python3",
      "display_name": "Python 3"
    },
    "language_info": {
      "name": "python"
    }
  },
  "cells": [
    {
      "cell_type": "code",
      "execution_count": null,
      "metadata": {
        "id": "s8KHklp3FObM"
      },
      "outputs": [],
      "source": [
        "import torch"
      ]
    },
    {
      "cell_type": "code",
      "source": [
        "x = torch.rand(5, 3, 5, 5)\n",
        "print(x)\n"
      ],
      "metadata": {
        "colab": {
          "base_uri": "https://localhost:8080/"
        },
        "id": "PcD9YAIkNtzi",
        "outputId": "10481afd-4132-4029-b36a-461c07bdef72"
      },
      "execution_count": null,
      "outputs": [
        {
          "output_type": "stream",
          "name": "stdout",
          "text": [
            "tensor([[[[0.7110, 0.7347, 0.3689, 0.8369, 0.8977],\n",
            "          [0.9908, 0.6191, 0.0976, 0.4059, 0.4227],\n",
            "          [0.1187, 0.7784, 0.2726, 0.4149, 0.0417],\n",
            "          [0.4327, 0.9977, 0.0827, 0.4617, 0.3489],\n",
            "          [0.4074, 0.8128, 0.8034, 0.9000, 0.9184]],\n",
            "\n",
            "         [[0.4413, 0.6005, 0.1940, 0.5834, 0.7999],\n",
            "          [0.7957, 0.3291, 0.9398, 0.5721, 0.3131],\n",
            "          [0.8699, 0.4611, 0.6710, 0.5060, 0.1844],\n",
            "          [0.1105, 0.4110, 0.0327, 0.6050, 0.9071],\n",
            "          [0.3634, 0.0482, 0.7059, 0.0559, 0.4290]],\n",
            "\n",
            "         [[0.1079, 0.4513, 0.8694, 0.3019, 0.2697],\n",
            "          [0.0944, 0.7270, 0.6721, 0.7763, 0.0889],\n",
            "          [0.9868, 0.6447, 0.3902, 0.1841, 0.5907],\n",
            "          [0.1276, 0.1023, 0.5414, 0.2533, 0.9340],\n",
            "          [0.5763, 0.4286, 0.9802, 0.6748, 0.2220]]],\n",
            "\n",
            "\n",
            "        [[[0.1354, 0.8796, 0.3810, 0.8336, 0.8860],\n",
            "          [0.4937, 0.4558, 0.2170, 0.7609, 0.4358],\n",
            "          [0.0812, 0.6422, 0.4866, 0.1726, 0.8529],\n",
            "          [0.0154, 0.5077, 0.1346, 0.2955, 0.0450],\n",
            "          [0.3191, 0.2702, 0.6819, 0.0643, 0.7356]],\n",
            "\n",
            "         [[0.9682, 0.4283, 0.1166, 0.2649, 0.6240],\n",
            "          [0.5982, 0.4715, 0.3395, 0.2947, 0.8908],\n",
            "          [0.4364, 0.6342, 0.8306, 0.5139, 0.9655],\n",
            "          [0.9748, 0.7713, 0.4547, 0.3845, 0.9795],\n",
            "          [0.1117, 0.4076, 0.8447, 0.0065, 0.6779]],\n",
            "\n",
            "         [[0.9429, 0.1593, 0.9954, 0.5341, 0.3046],\n",
            "          [0.9822, 0.0275, 0.0072, 0.7391, 0.0781],\n",
            "          [0.2861, 0.4861, 0.6160, 0.2408, 0.3977],\n",
            "          [0.0979, 0.0871, 0.2024, 0.9163, 0.4456],\n",
            "          [0.0294, 0.3314, 0.8693, 0.5868, 0.6239]]],\n",
            "\n",
            "\n",
            "        [[[0.2064, 0.4627, 0.0450, 0.9877, 0.1931],\n",
            "          [0.0611, 0.2330, 0.4802, 0.9897, 0.1383],\n",
            "          [0.5433, 0.1557, 0.7260, 0.8602, 0.8372],\n",
            "          [0.3365, 0.3430, 0.0063, 0.9317, 0.3521],\n",
            "          [0.8183, 0.0646, 0.6579, 0.3977, 0.4660]],\n",
            "\n",
            "         [[0.6258, 0.9039, 0.7919, 0.8970, 0.4667],\n",
            "          [0.0047, 0.1821, 0.3722, 0.2456, 0.0841],\n",
            "          [0.9969, 0.2842, 0.5873, 0.7943, 0.6698],\n",
            "          [0.9177, 0.5676, 0.3437, 0.5440, 0.2027],\n",
            "          [0.4214, 0.1743, 0.4258, 0.2598, 0.4211]],\n",
            "\n",
            "         [[0.5397, 0.9467, 0.2875, 0.2029, 0.3964],\n",
            "          [0.4842, 0.6770, 0.7759, 0.6622, 0.1585],\n",
            "          [0.5433, 0.6212, 0.1700, 0.9450, 0.7393],\n",
            "          [0.1394, 0.6400, 0.6279, 0.6901, 0.2989],\n",
            "          [0.8720, 0.9351, 0.9159, 0.9285, 0.8510]]],\n",
            "\n",
            "\n",
            "        [[[0.1797, 0.2478, 0.9751, 0.1233, 0.5811],\n",
            "          [0.9533, 0.5193, 0.4770, 0.3693, 0.5270],\n",
            "          [0.4341, 0.9278, 0.6752, 0.8882, 0.9344],\n",
            "          [0.8382, 0.3671, 0.7905, 0.0101, 0.5879],\n",
            "          [0.7487, 0.3435, 0.8883, 0.7660, 0.9311]],\n",
            "\n",
            "         [[0.6211, 0.8678, 0.7779, 0.3143, 0.8465],\n",
            "          [0.5047, 0.8903, 0.9921, 0.7748, 0.4672],\n",
            "          [0.9165, 0.8435, 0.5610, 0.5542, 0.9920],\n",
            "          [0.9331, 0.2439, 0.4065, 0.3515, 0.5686],\n",
            "          [0.1175, 0.4279, 0.1685, 0.5103, 0.3178]],\n",
            "\n",
            "         [[0.5683, 0.6465, 0.4441, 0.2812, 0.6102],\n",
            "          [0.7194, 0.3537, 0.9053, 0.4133, 0.3839],\n",
            "          [0.9308, 0.0730, 0.9708, 0.2326, 0.5457],\n",
            "          [0.8729, 0.9479, 0.9849, 0.4445, 0.1689],\n",
            "          [0.5551, 0.6318, 0.4572, 0.1574, 0.6000]]],\n",
            "\n",
            "\n",
            "        [[[0.1757, 0.4310, 0.8572, 0.8118, 0.9584],\n",
            "          [0.5429, 0.7726, 0.9220, 0.4186, 0.3252],\n",
            "          [0.7313, 0.7761, 0.0854, 0.0376, 0.9637],\n",
            "          [0.8347, 0.5732, 0.9819, 0.9140, 0.0778],\n",
            "          [0.8156, 0.8612, 0.7796, 0.9716, 0.5445]],\n",
            "\n",
            "         [[0.0444, 0.0790, 0.9804, 0.9114, 0.7289],\n",
            "          [0.6250, 0.9169, 0.8538, 0.0720, 0.8145],\n",
            "          [0.4656, 0.4610, 0.3013, 0.0372, 0.6776],\n",
            "          [0.5336, 0.6073, 0.0113, 0.8775, 0.9244],\n",
            "          [0.1819, 0.6607, 0.4108, 0.8560, 0.3518]],\n",
            "\n",
            "         [[0.8836, 0.8053, 0.3256, 0.9570, 0.9146],\n",
            "          [0.9879, 0.1569, 0.5356, 0.6518, 0.7802],\n",
            "          [0.8192, 0.8827, 0.1679, 0.3581, 0.6721],\n",
            "          [0.2419, 0.8501, 0.7432, 0.7149, 0.9638],\n",
            "          [0.0276, 0.9703, 0.5250, 0.2417, 0.8536]]]])\n"
          ]
        }
      ]
    },
    {
      "cell_type": "code",
      "source": [
        "x = torch.zeros(5, 3)\n",
        "print(x)"
      ],
      "metadata": {
        "colab": {
          "base_uri": "https://localhost:8080/"
        },
        "id": "EN3iqMfvODZa",
        "outputId": "4208ee47-f738-4703-eacd-4080d3b4585c"
      },
      "execution_count": null,
      "outputs": [
        {
          "output_type": "stream",
          "name": "stdout",
          "text": [
            "tensor([[0., 0., 0.],\n",
            "        [0., 0., 0.],\n",
            "        [0., 0., 0.],\n",
            "        [0., 0., 0.],\n",
            "        [0., 0., 0.]])\n"
          ]
        }
      ]
    },
    {
      "cell_type": "code",
      "source": [
        "x.size()"
      ],
      "metadata": {
        "colab": {
          "base_uri": "https://localhost:8080/"
        },
        "id": "Xu6DpYQVOZUg",
        "outputId": "9b91429d-7386-40eb-95db-7486d0e6f54e"
      },
      "execution_count": null,
      "outputs": [
        {
          "output_type": "execute_result",
          "data": {
            "text/plain": [
              "torch.Size([5, 3])"
            ]
          },
          "metadata": {},
          "execution_count": 7
        }
      ]
    },
    {
      "cell_type": "code",
      "source": [
        "x.dtype"
      ],
      "metadata": {
        "colab": {
          "base_uri": "https://localhost:8080/"
        },
        "id": "-Qs-7xh-OfV_",
        "outputId": "cc4d71bc-5141-46b6-c565-f22f7ce06de5"
      },
      "execution_count": null,
      "outputs": [
        {
          "output_type": "execute_result",
          "data": {
            "text/plain": [
              "torch.float32"
            ]
          },
          "metadata": {},
          "execution_count": 8
        }
      ]
    },
    {
      "cell_type": "code",
      "source": [
        "x = torch.zeros(5, 3, dtype=torch.float32)\n",
        "print(x)\n"
      ],
      "metadata": {
        "colab": {
          "base_uri": "https://localhost:8080/"
        },
        "id": "3_WWQQHpOkpR",
        "outputId": "b900aa51-d850-4c00-a2cf-b6dc11081ec9"
      },
      "execution_count": null,
      "outputs": [
        {
          "output_type": "stream",
          "name": "stdout",
          "text": [
            "tensor([[0., 0., 0.],\n",
            "        [0., 0., 0.],\n",
            "        [0., 0., 0.],\n",
            "        [0., 0., 0.],\n",
            "        [0., 0., 0.]])\n"
          ]
        }
      ]
    },
    {
      "cell_type": "code",
      "source": [
        "x = torch.tensor([12.3, 4])\n",
        "x"
      ],
      "metadata": {
        "colab": {
          "base_uri": "https://localhost:8080/"
        },
        "id": "vHQk8KAlOtIe",
        "outputId": "90532b44-13ca-4871-f377-6e4468c6683b"
      },
      "execution_count": null,
      "outputs": [
        {
          "output_type": "execute_result",
          "data": {
            "text/plain": [
              "tensor([12.3000,  4.0000])"
            ]
          },
          "metadata": {},
          "execution_count": 10
        }
      ]
    },
    {
      "cell_type": "code",
      "source": [
        "y = torch.rand(5, 5)\n",
        "z = torch.rand(5, 5)\n",
        "\n",
        "print(y)\n",
        "print(z)"
      ],
      "metadata": {
        "colab": {
          "base_uri": "https://localhost:8080/"
        },
        "id": "tDxwUCE8O3oE",
        "outputId": "760c3592-7ad2-44a1-f638-3f3eb965157d"
      },
      "execution_count": null,
      "outputs": [
        {
          "output_type": "stream",
          "name": "stdout",
          "text": [
            "tensor([[0.2832, 0.4978, 0.5754, 0.7247, 0.9284],\n",
            "        [0.6844, 0.8560, 0.1836, 0.0947, 0.0146],\n",
            "        [0.4148, 0.6254, 0.8024, 0.6198, 0.3121],\n",
            "        [0.3093, 0.9000, 0.6257, 0.5976, 0.5295],\n",
            "        [0.5751, 0.5720, 0.0405, 0.4678, 0.5439]])\n",
            "tensor([[0.4641, 0.6894, 0.1469, 0.9342, 0.6150],\n",
            "        [0.4815, 0.7977, 0.2057, 0.3991, 0.0927],\n",
            "        [0.5843, 0.1619, 0.2235, 0.9189, 0.8094],\n",
            "        [0.0131, 0.4476, 0.8338, 0.7914, 0.0889],\n",
            "        [0.5525, 0.7002, 0.1441, 0.0681, 0.5183]])\n"
          ]
        }
      ]
    },
    {
      "cell_type": "code",
      "source": [
        "sum = y + z\n",
        "print(sum)"
      ],
      "metadata": {
        "colab": {
          "base_uri": "https://localhost:8080/"
        },
        "id": "BV3c-zyCPMa1",
        "outputId": "6b773add-4052-4517-93d7-19a8d55f4b06"
      },
      "execution_count": null,
      "outputs": [
        {
          "output_type": "stream",
          "name": "stdout",
          "text": [
            "tensor([[0.7473, 1.1872, 0.7223, 1.6589, 1.5434],\n",
            "        [1.1659, 1.6537, 0.3892, 0.4938, 0.1074],\n",
            "        [0.9990, 0.7873, 1.0259, 1.5387, 1.1215],\n",
            "        [0.3224, 1.3475, 1.4594, 1.3890, 0.6184],\n",
            "        [1.1276, 1.2723, 0.1846, 0.5359, 1.0622]])\n"
          ]
        }
      ]
    },
    {
      "cell_type": "code",
      "source": [
        "sum = torch.add(y, z)\n",
        "print(sum)"
      ],
      "metadata": {
        "colab": {
          "base_uri": "https://localhost:8080/"
        },
        "id": "pBzveqbjPRF7",
        "outputId": "f7b7b11a-20bf-46bb-c414-a228d7c399b5"
      },
      "execution_count": null,
      "outputs": [
        {
          "output_type": "stream",
          "name": "stdout",
          "text": [
            "tensor([[0.7473, 1.1872, 0.7223, 1.6589, 1.5434],\n",
            "        [1.1659, 1.6537, 0.3892, 0.4938, 0.1074],\n",
            "        [0.9990, 0.7873, 1.0259, 1.5387, 1.1215],\n",
            "        [0.3224, 1.3475, 1.4594, 1.3890, 0.6184],\n",
            "        [1.1276, 1.2723, 0.1846, 0.5359, 1.0622]])\n"
          ]
        }
      ]
    },
    {
      "cell_type": "code",
      "source": [
        "z.add_(y)\n",
        "print(z)"
      ],
      "metadata": {
        "colab": {
          "base_uri": "https://localhost:8080/"
        },
        "id": "MZ6FTc2fPdby",
        "outputId": "5d58bd7d-92ad-473a-956d-49f256c1eeb7"
      },
      "execution_count": null,
      "outputs": [
        {
          "output_type": "stream",
          "name": "stdout",
          "text": [
            "tensor([[0.7473, 1.1872, 0.7223, 1.6589, 1.5434],\n",
            "        [1.1659, 1.6537, 0.3892, 0.4938, 0.1074],\n",
            "        [0.9990, 0.7873, 1.0259, 1.5387, 1.1215],\n",
            "        [0.3224, 1.3475, 1.4594, 1.3890, 0.6184],\n",
            "        [1.1276, 1.2723, 0.1846, 0.5359, 1.0622]])\n"
          ]
        }
      ]
    },
    {
      "cell_type": "code",
      "source": [
        "sub = z - y\n",
        "print(sub)"
      ],
      "metadata": {
        "colab": {
          "base_uri": "https://localhost:8080/"
        },
        "id": "Bt5yKqBfPs6l",
        "outputId": "cf75d64e-5c8c-47b5-d18a-574016e18aa3"
      },
      "execution_count": null,
      "outputs": [
        {
          "output_type": "stream",
          "name": "stdout",
          "text": [
            "tensor([[0.4641, 0.6894, 0.1469, 0.9342, 0.6150],\n",
            "        [0.4815, 0.7977, 0.2057, 0.3991, 0.0927],\n",
            "        [0.5843, 0.1619, 0.2235, 0.9189, 0.8094],\n",
            "        [0.0131, 0.4476, 0.8338, 0.7914, 0.0889],\n",
            "        [0.5525, 0.7002, 0.1441, 0.0681, 0.5183]])\n"
          ]
        }
      ]
    },
    {
      "cell_type": "code",
      "source": [
        "sub = torch.sub(z, y)\n",
        "print(sub)"
      ],
      "metadata": {
        "colab": {
          "base_uri": "https://localhost:8080/"
        },
        "id": "VQIQyZR6P1um",
        "outputId": "2dc267c2-8a3c-4606-d785-bee3b23afb30"
      },
      "execution_count": null,
      "outputs": [
        {
          "output_type": "stream",
          "name": "stdout",
          "text": [
            "tensor([[0.4641, 0.6894, 0.1469, 0.9342, 0.6150],\n",
            "        [0.4815, 0.7977, 0.2057, 0.3991, 0.0927],\n",
            "        [0.5843, 0.1619, 0.2235, 0.9189, 0.8094],\n",
            "        [0.0131, 0.4476, 0.8338, 0.7914, 0.0889],\n",
            "        [0.5525, 0.7002, 0.1441, 0.0681, 0.5183]])\n"
          ]
        }
      ]
    },
    {
      "cell_type": "code",
      "source": [
        "mult = z * y\n",
        "print(mult)"
      ],
      "metadata": {
        "colab": {
          "base_uri": "https://localhost:8080/"
        },
        "id": "1dfW8PXaP8AL",
        "outputId": "c684b33f-7af5-4a3d-93fb-87f42d50e199"
      },
      "execution_count": null,
      "outputs": [
        {
          "output_type": "stream",
          "name": "stdout",
          "text": [
            "tensor([[0.2116, 0.5910, 0.4156, 1.2022, 1.4328],\n",
            "        [0.7979, 1.4156, 0.0714, 0.0468, 0.0016],\n",
            "        [0.4144, 0.4924, 0.8232, 0.9537, 0.3500],\n",
            "        [0.0997, 1.2128, 0.9132, 0.8301, 0.3275],\n",
            "        [0.6484, 0.7278, 0.0075, 0.2507, 0.5777]])\n"
          ]
        }
      ]
    },
    {
      "cell_type": "code",
      "source": [
        "mult = torch.mul(z, y)\n",
        "print(mult)"
      ],
      "metadata": {
        "colab": {
          "base_uri": "https://localhost:8080/"
        },
        "id": "J8tDYdZmQFUE",
        "outputId": "bb6e1c24-6dd0-487e-e02f-08573ef39350"
      },
      "execution_count": null,
      "outputs": [
        {
          "output_type": "stream",
          "name": "stdout",
          "text": [
            "tensor([[0.2116, 0.5910, 0.4156, 1.2022, 1.4328],\n",
            "        [0.7979, 1.4156, 0.0714, 0.0468, 0.0016],\n",
            "        [0.4144, 0.4924, 0.8232, 0.9537, 0.3500],\n",
            "        [0.0997, 1.2128, 0.9132, 0.8301, 0.3275],\n",
            "        [0.6484, 0.7278, 0.0075, 0.2507, 0.5777]])\n"
          ]
        }
      ]
    },
    {
      "cell_type": "code",
      "source": [
        "divi = z / y\n",
        "print(divi)"
      ],
      "metadata": {
        "colab": {
          "base_uri": "https://localhost:8080/"
        },
        "id": "OMzU-3JUQNLF",
        "outputId": "d4d25642-fb7f-40a7-c281-0d1586d58669"
      },
      "execution_count": null,
      "outputs": [
        {
          "output_type": "stream",
          "name": "stdout",
          "text": [
            "tensor([[2.6389, 2.3850, 1.2553, 2.2891, 1.6624],\n",
            "        [1.7035, 1.9319, 2.1205, 5.2136, 7.3358],\n",
            "        [2.4087, 1.2589, 1.2785, 2.4826, 3.5937],\n",
            "        [1.0424, 1.4973, 2.3326, 2.3242, 1.1679],\n",
            "        [1.9607, 2.2241, 4.5558, 1.1456, 1.9529]])\n"
          ]
        }
      ]
    },
    {
      "cell_type": "code",
      "source": [
        "divi = torch.div(z, y)\n",
        "print(divi)"
      ],
      "metadata": {
        "colab": {
          "base_uri": "https://localhost:8080/"
        },
        "id": "eO5P2BU5QUk_",
        "outputId": "eaaa0188-c09e-4a3c-fe52-e2f4bd9fdd86"
      },
      "execution_count": null,
      "outputs": [
        {
          "output_type": "stream",
          "name": "stdout",
          "text": [
            "tensor([[2.6389, 2.3850, 1.2553, 2.2891, 1.6624],\n",
            "        [1.7035, 1.9319, 2.1205, 5.2136, 7.3358],\n",
            "        [2.4087, 1.2589, 1.2785, 2.4826, 3.5937],\n",
            "        [1.0424, 1.4973, 2.3326, 2.3242, 1.1679],\n",
            "        [1.9607, 2.2241, 4.5558, 1.1456, 1.9529]])\n"
          ]
        }
      ]
    },
    {
      "cell_type": "code",
      "source": [
        "slc = torch.rand(12, 4)\n",
        "print(slc)"
      ],
      "metadata": {
        "colab": {
          "base_uri": "https://localhost:8080/"
        },
        "id": "hM9SPKx2Qa-T",
        "outputId": "71a521e6-2485-4192-8fdb-3c47c31f0be8"
      },
      "execution_count": null,
      "outputs": [
        {
          "output_type": "stream",
          "name": "stdout",
          "text": [
            "tensor([[0.5805, 0.9891, 0.1509, 0.8907],\n",
            "        [0.6779, 0.8081, 0.6475, 0.8240],\n",
            "        [0.1897, 0.9905, 0.3764, 0.1767],\n",
            "        [0.3728, 0.0482, 0.7595, 0.6986],\n",
            "        [0.9817, 0.4013, 0.8280, 0.3815],\n",
            "        [0.9735, 0.8232, 0.9330, 0.8685],\n",
            "        [0.6381, 0.1611, 0.1283, 0.8766],\n",
            "        [0.3169, 0.1873, 0.4024, 0.7030],\n",
            "        [0.0518, 0.3628, 0.8717, 0.3832],\n",
            "        [0.0115, 0.6131, 0.5985, 0.9495],\n",
            "        [0.9800, 0.1512, 0.1532, 0.3537],\n",
            "        [0.1121, 0.3816, 0.6637, 0.9962]])\n"
          ]
        }
      ]
    },
    {
      "cell_type": "code",
      "source": [
        "slc[:, 0]"
      ],
      "metadata": {
        "colab": {
          "base_uri": "https://localhost:8080/"
        },
        "id": "AuQ6hH1OQ5KQ",
        "outputId": "02a7ee0c-4ca9-4355-cbbc-377393f7d104"
      },
      "execution_count": null,
      "outputs": [
        {
          "output_type": "execute_result",
          "data": {
            "text/plain": [
              "tensor([0.5805, 0.6779, 0.1897, 0.3728, 0.9817, 0.9735, 0.6381, 0.3169, 0.0518,\n",
              "        0.0115, 0.9800, 0.1121])"
            ]
          },
          "metadata": {},
          "execution_count": 26
        }
      ]
    },
    {
      "cell_type": "code",
      "source": [
        "slc[2, :]"
      ],
      "metadata": {
        "colab": {
          "base_uri": "https://localhost:8080/"
        },
        "id": "7A1r6EsvQ_9U",
        "outputId": "beb2092e-4df3-471e-91d6-a7873270a369"
      },
      "execution_count": null,
      "outputs": [
        {
          "output_type": "execute_result",
          "data": {
            "text/plain": [
              "tensor([0.1897, 0.9905, 0.3764, 0.1767])"
            ]
          },
          "metadata": {},
          "execution_count": 27
        }
      ]
    },
    {
      "cell_type": "code",
      "source": [
        "slc[5, 3].item()"
      ],
      "metadata": {
        "colab": {
          "base_uri": "https://localhost:8080/"
        },
        "id": "jDkJokkERIRy",
        "outputId": "f737235c-93ff-4d95-91e6-45de431c4bac"
      },
      "execution_count": null,
      "outputs": [
        {
          "output_type": "execute_result",
          "data": {
            "text/plain": [
              "0.8684630393981934"
            ]
          },
          "metadata": {},
          "execution_count": 29
        }
      ]
    },
    {
      "cell_type": "code",
      "source": [
        "t = torch.rand(3, 4)\n",
        "t_reshaped = t.view(12)\n",
        "print(t_reshaped)"
      ],
      "metadata": {
        "colab": {
          "base_uri": "https://localhost:8080/"
        },
        "id": "2kgL-N9nRPdp",
        "outputId": "ab5d767c-bb62-4e6d-8f10-186d3555e5f4"
      },
      "execution_count": null,
      "outputs": [
        {
          "output_type": "stream",
          "name": "stdout",
          "text": [
            "tensor([0.0896, 0.3242, 0.8015, 0.5895, 0.0237, 0.1886, 0.6879, 0.3853, 0.8992,\n",
            "        0.1678, 0.3476, 0.5253])\n"
          ]
        }
      ]
    },
    {
      "cell_type": "code",
      "source": [
        "t_r = t.view(-1, 3)\n",
        "t_r"
      ],
      "metadata": {
        "colab": {
          "base_uri": "https://localhost:8080/"
        },
        "id": "guk83MKZSjvA",
        "outputId": "0afd121c-bb49-48ff-e745-9738f5a4904b"
      },
      "execution_count": null,
      "outputs": [
        {
          "output_type": "execute_result",
          "data": {
            "text/plain": [
              "tensor([[0.0896, 0.3242, 0.8015],\n",
              "        [0.5895, 0.0237, 0.1886],\n",
              "        [0.6879, 0.3853, 0.8992],\n",
              "        [0.1678, 0.3476, 0.5253]])"
            ]
          },
          "metadata": {},
          "execution_count": 32
        }
      ]
    },
    {
      "cell_type": "code",
      "source": [
        "t_r.size()"
      ],
      "metadata": {
        "colab": {
          "base_uri": "https://localhost:8080/"
        },
        "id": "l-XgwWUOS2oo",
        "outputId": "06fcade7-e238-422b-9896-f7a798935c0b"
      },
      "execution_count": null,
      "outputs": [
        {
          "output_type": "execute_result",
          "data": {
            "text/plain": [
              "torch.Size([4, 3])"
            ]
          },
          "metadata": {},
          "execution_count": 33
        }
      ]
    },
    {
      "cell_type": "code",
      "source": [
        "# array ---> Numpy, Tensor ---> Pytorch\n",
        "c = torch.ones(5)\n",
        "c.type\n",
        "\n",
        "d = c.numpy()\n",
        "print(d)\n",
        "print(type(d))\n",
        "\n",
        "f = torch.from_numpy(d)\n",
        "print(f)\n",
        "print(f.type)\n"
      ],
      "metadata": {
        "colab": {
          "base_uri": "https://localhost:8080/"
        },
        "id": "ms5BYX5PS5ie",
        "outputId": "92cf27d5-94db-48a8-8204-b59f6a93ef12"
      },
      "execution_count": null,
      "outputs": [
        {
          "output_type": "stream",
          "name": "stdout",
          "text": [
            "[1. 1. 1. 1. 1.]\n",
            "<class 'numpy.ndarray'>\n",
            "tensor([1., 1., 1., 1., 1.])\n",
            "<built-in method type of Tensor object at 0x7f47688fa7f0>\n"
          ]
        }
      ]
    },
    {
      "cell_type": "code",
      "source": [
        "x= torch.tensor(2.0, requires_grad=True)\n",
        "y = x**3 + 1\n",
        "\n",
        "y.backward()\n",
        "dy_dx = x.grad\n",
        "\n",
        "print(dy_dx)"
      ],
      "metadata": {
        "colab": {
          "base_uri": "https://localhost:8080/"
        },
        "id": "q87Ws93-TZ2_",
        "outputId": "206838a9-9484-4172-9a58-8d1d6a37ea97"
      },
      "execution_count": null,
      "outputs": [
        {
          "output_type": "stream",
          "name": "stdout",
          "text": [
            "tensor(12.)\n"
          ]
        }
      ]
    },
    {
      "cell_type": "code",
      "source": [
        "x = torch.tensor(5.0)\n",
        "w = torch.tensor(3.0, requires_grad=True)\n",
        "b = torch.tensor(1.0, requires_grad=True)\n",
        "\n",
        "o = w*x + b\n",
        "\n",
        "o.backward()\n",
        "\n",
        "do_dx = x.grad\n",
        "do_dw = w.grad\n",
        "do_db = b.grad\n",
        "print(do_dx)\n",
        "print(do_dw)\n",
        "print(do_db)"
      ],
      "metadata": {
        "colab": {
          "base_uri": "https://localhost:8080/"
        },
        "id": "XCo-YoMeVwSG",
        "outputId": "f955d4fa-af15-4eca-97e3-2379e580e1aa"
      },
      "execution_count": null,
      "outputs": [
        {
          "output_type": "stream",
          "name": "stdout",
          "text": [
            "None\n",
            "tensor(5.)\n",
            "tensor(1.)\n"
          ]
        }
      ]
    },
    {
      "cell_type": "code",
      "source": [
        "#x = torch.tensor(5.0)\n",
        "w = torch.tensor(3.0, requires_grad=True)\n",
        "b = torch.tensor(1.0, requires_grad=True)\n",
        "\n",
        "f = w + b\n",
        "g = w + 5\n",
        "\n",
        "y = torch.mul(f, g)\n",
        "\n",
        "\n",
        "y.backward()\n",
        "dy_dw = w.grad\n",
        "print(dy_dw)\n",
        "\n"
      ],
      "metadata": {
        "colab": {
          "base_uri": "https://localhost:8080/"
        },
        "id": "KPJ4LwlAW9Co",
        "outputId": "51c759de-55cc-4d41-e633-abcd2311d5cb"
      },
      "execution_count": null,
      "outputs": [
        {
          "output_type": "stream",
          "name": "stdout",
          "text": [
            "tensor(12.)\n"
          ]
        }
      ]
    },
    {
      "cell_type": "code",
      "source": [
        "x = torch.tensor(3.0)\n",
        "w1 = torch.tensor(1.0, requires_grad=True)\n",
        "w2 = torch.tensor(2.0, requires_grad=True)\n",
        "w3 = torch.tensor(4.0, requires_grad=True)\n",
        "\n",
        "net = w1 * x\n",
        "out = 2 * net\n",
        "\n",
        "y1_pred = w2 * out\n",
        "y2_pred = w3 * out\n",
        "\n",
        "y1_pred.backward(retain_graph=True) # fine\n",
        "y2_pred.backward(retain_graph=True) # fine\n",
        "\n",
        "loss = y1_pred + y2_pred\n",
        "\n",
        "#loss = 0.5 *( (3-y1_pred)**2  + (1-y2_pred)**2 )\n",
        "\n",
        "#loss.backward()\n",
        "\n",
        "dloss_dw1 = w1.grad\n",
        "print(dloss_dw1)"
      ],
      "metadata": {
        "colab": {
          "base_uri": "https://localhost:8080/"
        },
        "id": "df8UN4wQZL0X",
        "outputId": "bc7ae026-e7dc-4d38-8a43-f09dd359d167"
      },
      "execution_count": null,
      "outputs": [
        {
          "output_type": "stream",
          "name": "stdout",
          "text": [
            "tensor(36.)\n"
          ]
        }
      ]
    },
    {
      "cell_type": "code",
      "source": [
        "import torch\n",
        "from torch.autograd import Variable\n",
        "a = Variable(torch.rand(1, 4), requires_grad=True)\n",
        "b = a**2\n",
        "c = b*2\n",
        "d = c.mean()\n",
        "e = c.sum()\n",
        "\n",
        "d.backward(retain_graph=True) # fine\n",
        "e.backward(retain_graph=True) # fine\n",
        "\n",
        "ff = a.grad\n",
        "\n",
        "# dd_da + de_da\n",
        "print(ff)"
      ],
      "metadata": {
        "colab": {
          "base_uri": "https://localhost:8080/"
        },
        "id": "8RUNm0DEcIdy",
        "outputId": "ebb802ac-a166-4a43-d779-decd11e4b74d"
      },
      "execution_count": null,
      "outputs": [
        {
          "output_type": "stream",
          "name": "stdout",
          "text": [
            "tensor([[4.1966, 3.3268, 1.7188, 0.1805]])\n"
          ]
        }
      ]
    },
    {
      "cell_type": "code",
      "source": [],
      "metadata": {
        "id": "-aJTDrZrd-EV"
      },
      "execution_count": null,
      "outputs": []
    }
  ]
}