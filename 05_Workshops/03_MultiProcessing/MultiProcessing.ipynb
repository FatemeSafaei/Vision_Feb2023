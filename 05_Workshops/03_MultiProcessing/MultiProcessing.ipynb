{
 "cells": [
  {
   "cell_type": "code",
   "execution_count": 2,
   "id": "e9faa7d1",
   "metadata": {},
   "outputs": [],
   "source": [
    "def invite_guest(t):\n",
    "    print(f'invite_guest, s1: Write invitation for the guest!')\n",
    "    print(f'invite_guest, s2: Send invitation to the guest!')\n",
    "    print(f'invite_guest, s3: Wait for the guest\\'s answer!')\n",
    "    time.sleep(t)\n",
    "    print(f'invite_guest, s4: Bake cookies for the guest')"
   ]
  },
  {
   "cell_type": "code",
   "execution_count": 7,
   "id": "56b50471",
   "metadata": {},
   "outputs": [
    {
     "name": "stdout",
     "output_type": "stream",
     "text": [
      "invite_guest, s1: Write invitation for the guest!\n",
      "invite_guest, s2: Send invitation to the guest!\n",
      "invite_guest, s3: Wait for the guest's answer!\n",
      "invite_guest, s4: Bake cookies for the guest\n",
      "invite_guest, s1: Write invitation for the guest!\n",
      "invite_guest, s2: Send invitation to the guest!\n",
      "invite_guest, s3: Wait for the guest's answer!\n",
      "invite_guest, s4: Bake cookies for the guest\n",
      "Duration:  4.004404067993164\n"
     ]
    }
   ],
   "source": [
    "import time\n",
    "\n",
    "start = time.time()\n",
    "invite_guest(2)\n",
    "invite_guest(2)\n",
    "end = time.time()\n",
    "\n",
    "print('Duration: ', end - start)"
   ]
  },
  {
   "cell_type": "code",
   "execution_count": 8,
   "id": "f4acfb3e",
   "metadata": {},
   "outputs": [],
   "source": [
    "import multiprocessing"
   ]
  },
  {
   "cell_type": "code",
   "execution_count": 9,
   "id": "c37d0c64",
   "metadata": {},
   "outputs": [
    {
     "name": "stdout",
     "output_type": "stream",
     "text": [
      "invite_guest, s1: Write invitation for the guest!\n",
      "invite_guest, s2: Send invitation to the guest!\n",
      "invite_guest, s1: Write invitation for the guest!\n",
      "invite_guest, s2: Send invitation to the guest!\n",
      "invite_guest, s3: Wait for the guest's answer!\n",
      "invite_guest, s3: Wait for the guest's answer!\n",
      "invite_guest, s4: Bake cookies for the guestinvite_guest, s4: Bake cookies for the guest\n",
      "\n",
      "Duration:  2.143162965774536\n"
     ]
    }
   ],
   "source": [
    "start = time.time()\n",
    "\n",
    "p1 = multiprocessing.Process(target=invite_guest, args=(2, ))\n",
    "p2 = multiprocessing.Process(target=invite_guest, args=(2, ))\n",
    "\n",
    "p1.start()\n",
    "p2.start()\n",
    "\n",
    "p1.join()\n",
    "p2.join()\n",
    "\n",
    "\n",
    "end = time.time()\n",
    "\n",
    "print('Duration: ', end - start)"
   ]
  },
  {
   "cell_type": "code",
   "execution_count": 10,
   "id": "958a9a29",
   "metadata": {},
   "outputs": [
    {
     "name": "stdout",
     "output_type": "stream",
     "text": [
      "invite_guest, s1: Write invitation for the guest!\n",
      "invite_guest, s2: Send invitation to the guest!invite_guest, s1: Write invitation for the guest!invite_guest, s1: Write invitation for the guest!\n",
      "\n",
      "\n",
      "invite_guest, s1: Write invitation for the guest!invite_guest, s2: Send invitation to the guest!invite_guest, s3: Wait for the guest's answer!invite_guest, s2: Send invitation to the guest!invite_guest, s1: Write invitation for the guest!invite_guest, s1: Write invitation for the guest!\n",
      "\n",
      "\n",
      "invite_guest, s1: Write invitation for the guest!\n",
      "\n",
      "\n",
      "invite_guest, s2: Send invitation to the guest!invite_guest, s4: Bake cookies for the guestinvite_guest, s2: Send invitation to the guest!\n",
      "invite_guest, s2: Send invitation to the guest!invite_guest, s3: Wait for the guest's answer!invite_guest, s3: Wait for the guest's answer!invite_guest, s1: Write invitation for the guest!\n",
      "\n",
      "\n",
      "\n",
      "invite_guest, s2: Send invitation to the guest!\n",
      "invite_guest, s1: Write invitation for the guest!invite_guest, s3: Wait for the guest's answer!invite_guest, s3: Wait for the guest's answer!\n",
      "invite_guest, s3: Wait for the guest's answer!\n",
      "\n",
      "\n",
      "\n",
      "\n",
      "\n",
      "invite_guest, s3: Wait for the guest's answer!invite_guest, s2: Send invitation to the guest!invite_guest, s1: Write invitation for the guest!invite_guest, s2: Send invitation to the guest!\n",
      "\n",
      "\n",
      "invite_guest, s3: Wait for the guest's answer!invite_guest, s2: Send invitation to the guest!\n",
      "\n",
      "invite_guest, s3: Wait for the guest's answer!\n",
      "\n",
      "invite_guest, s3: Wait for the guest's answer!\n",
      "invite_guest, s4: Bake cookies for the guest\n",
      "invite_guest, s4: Bake cookies for the guest\n",
      "invite_guest, s4: Bake cookies for the guest\n",
      "invite_guest, s4: Bake cookies for the guest\n",
      "invite_guest, s4: Bake cookies for the guest\n",
      "invite_guest, s4: Bake cookies for the guest\n",
      "invite_guest, s4: Bake cookies for the guest\n",
      "invite_guest, s4: Bake cookies for the guest\n",
      "invite_guest, s4: Bake cookies for the guest\n",
      "Duration:  9.263565063476562\n"
     ]
    }
   ],
   "source": [
    "start = time.time()\n",
    "processes = []\n",
    "\n",
    "for i in range(10):\n",
    "    p = multiprocessing.Process(target=invite_guest, args=(i, ))\n",
    "    processes.append(p)\n",
    "    p.start()\n",
    "    \n",
    "for p in processes:\n",
    "    p.join()\n",
    "    \n",
    "\n",
    "\n",
    "\n",
    "end = time.time()\n",
    "print('Duration: ', end - start)"
   ]
  },
  {
   "cell_type": "code",
   "execution_count": 11,
   "id": "70d6ed02",
   "metadata": {},
   "outputs": [
    {
     "name": "stdout",
     "output_type": "stream",
     "text": [
      "invite_guest, s1: Write invitation for the guest!\n",
      "invite_guest, s2: Send invitation to the guest!\n",
      "invite_guest, s3: Wait for the guest's answer!\n",
      "invite_guest, s4: Bake cookies for the guest\n",
      "Duration: 1.134519338607788\n"
     ]
    }
   ],
   "source": [
    "import concurrent\n",
    "\n",
    "start = time.time()\n",
    "\n",
    "with concurrent.futures.ProcessPoolExecutor() as executor:\n",
    "    p = executor.submit(invite_guest, 1)\n",
    "    p.result()\n",
    "\n",
    "\n",
    "end = time.time()\n",
    "\n",
    "print('Duration:', end-start)"
   ]
  },
  {
   "cell_type": "code",
   "execution_count": 18,
   "id": "8b3fbe7b",
   "metadata": {},
   "outputs": [
    {
     "name": "stdout",
     "output_type": "stream",
     "text": [
      "Duration:  22.360661029815674\n"
     ]
    }
   ],
   "source": [
    "start =  time.time()\n",
    "\n",
    "from PIL import Image\n",
    "import glob\n",
    "\n",
    "def process_image(image_path):\n",
    "    with Image.open(image_path) as img:\n",
    "        img = img.rotate(90)\n",
    "       # img.save(f'processed_{image_path}')\n",
    "        \n",
    "image_paths = glob.glob('*.jpg')\n",
    "\n",
    "for path in image_paths:\n",
    "    process_image(path)\n",
    "\n",
    "end = time.time()\n",
    "print('Duration: ', end - start)"
   ]
  },
  {
   "cell_type": "code",
   "execution_count": 19,
   "id": "69e0ef43",
   "metadata": {},
   "outputs": [
    {
     "name": "stdout",
     "output_type": "stream",
     "text": [
      "Duration:  10.909904479980469\n"
     ]
    }
   ],
   "source": [
    "\n",
    "\n",
    "from PIL import Image\n",
    "import glob\n",
    "\n",
    "\n",
    "start = time.time()\n",
    "\n",
    "def process_image(image_path):\n",
    "    with Image.open(image_path) as img:\n",
    "        img = img.rotate(90)\n",
    "       # img.save(f'processed_{image_path}')\n",
    "        \n",
    "image_paths = glob.glob('*.jpg')\n",
    "\n",
    "with concurrent.futures.ProcessPoolExecutor() as executor:\n",
    "    executor.map(process_image, image_paths)\n",
    "\n",
    "        \n",
    "end = time.time()\n",
    "print('Duration: ', end - start)      \n"
   ]
  },
  {
   "cell_type": "code",
   "execution_count": null,
   "id": "39628af3",
   "metadata": {},
   "outputs": [],
   "source": []
  },
  {
   "cell_type": "code",
   "execution_count": null,
   "id": "af70b1d6",
   "metadata": {},
   "outputs": [],
   "source": []
  }
 ],
 "metadata": {
  "kernelspec": {
   "display_name": "Python 3 (ipykernel)",
   "language": "python",
   "name": "python3"
  },
  "language_info": {
   "codemirror_mode": {
    "name": "ipython",
    "version": 3
   },
   "file_extension": ".py",
   "mimetype": "text/x-python",
   "name": "python",
   "nbconvert_exporter": "python",
   "pygments_lexer": "ipython3",
   "version": "3.10.6"
  }
 },
 "nbformat": 4,
 "nbformat_minor": 5
}
