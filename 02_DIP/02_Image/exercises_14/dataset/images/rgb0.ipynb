{
 "cells": [
  {
   "cell_type": "code",
   "execution_count": 53,
   "id": "de72bfba",
   "metadata": {},
   "outputs": [],
   "source": [
    "import numpy as np\n",
    "import matplotlib.pyplot as plt\n",
    "import cv2\n",
    "import matplotlib.image as mpimg\n",
    "\n",
    "red = np.full((50, 50), 50, dtype=np.uint8)\n",
    "green = np.full((50, 50), 100, dtype=np.uint8)\n",
    "blue = np.full((50, 50), 150, dtype=np.uint8)"
   ]
  },
  {
   "cell_type": "code",
   "execution_count": 54,
   "id": "b56a0f4f",
   "metadata": {},
   "outputs": [
    {
     "data": {
      "text/plain": [
       "array([[50, 50, 50, ..., 50, 50, 50],\n",
       "       [50, 50, 50, ..., 50, 50, 50],\n",
       "       [50, 50, 50, ..., 50, 50, 50],\n",
       "       ...,\n",
       "       [50, 50, 50, ..., 50, 50, 50],\n",
       "       [50, 50, 50, ..., 50, 50, 50],\n",
       "       [50, 50, 50, ..., 50, 50, 50]], dtype=uint8)"
      ]
     },
     "execution_count": 54,
     "metadata": {},
     "output_type": "execute_result"
    }
   ],
   "source": [
    "red"
   ]
  },
  {
   "cell_type": "code",
   "execution_count": 55,
   "id": "9508516f",
   "metadata": {},
   "outputs": [
    {
     "data": {
      "text/plain": [
       "array([[100, 100, 100, ..., 100, 100, 100],\n",
       "       [100, 100, 100, ..., 100, 100, 100],\n",
       "       [100, 100, 100, ..., 100, 100, 100],\n",
       "       ...,\n",
       "       [100, 100, 100, ..., 100, 100, 100],\n",
       "       [100, 100, 100, ..., 100, 100, 100],\n",
       "       [100, 100, 100, ..., 100, 100, 100]], dtype=uint8)"
      ]
     },
     "execution_count": 55,
     "metadata": {},
     "output_type": "execute_result"
    }
   ],
   "source": [
    "green"
   ]
  },
  {
   "cell_type": "code",
   "execution_count": 56,
   "id": "1ec92d10",
   "metadata": {},
   "outputs": [
    {
     "data": {
      "text/plain": [
       "array([[150, 150, 150, ..., 150, 150, 150],\n",
       "       [150, 150, 150, ..., 150, 150, 150],\n",
       "       [150, 150, 150, ..., 150, 150, 150],\n",
       "       ...,\n",
       "       [150, 150, 150, ..., 150, 150, 150],\n",
       "       [150, 150, 150, ..., 150, 150, 150],\n",
       "       [150, 150, 150, ..., 150, 150, 150]], dtype=uint8)"
      ]
     },
     "execution_count": 56,
     "metadata": {},
     "output_type": "execute_result"
    }
   ],
   "source": [
    "blue"
   ]
  },
  {
   "cell_type": "code",
   "execution_count": 57,
   "id": "8311a42d",
   "metadata": {},
   "outputs": [],
   "source": [
    "img_rgb = np.dstack((red,green,blue))\n",
    "img_bgr = np.dstack((blue,green,red))\n"
   ]
  },
  {
   "cell_type": "code",
   "execution_count": 58,
   "id": "594fa992",
   "metadata": {},
   "outputs": [
    {
     "data": {
      "text/plain": [
       "<matplotlib.image.AxesImage at 0x7f209b2d5420>"
      ]
     },
     "execution_count": 58,
     "metadata": {},
     "output_type": "execute_result"
    },
    {
     "data": {
      "image/png": "[encoded data removed]",
      "text/plain": [
       "<Figure size 432x288 with 1 Axes>"
      ]
     },
     "metadata": {
      "needs_background": "light"
     },
     "output_type": "display_data"
    }
   ],
   "source": [
    "plt.imshow(img_rgb)"
   ]
  },
  {
   "cell_type": "code",
   "execution_count": 59,
   "id": "4d8ee35d",
   "metadata": {},
   "outputs": [
    {
     "data": {
      "text/plain": [
       "<matplotlib.image.AxesImage at 0x7f209ada3100>"
      ]
     },
     "execution_count": 59,
     "metadata": {},
     "output_type": "execute_result"
    },
    {
     "data": {
      "image/png": "[encoded data removed]",
      "text/plain": [
       "<Figure size 432x288 with 1 Axes>"
      ]
     },
     "metadata": {
      "needs_background": "light"
     },
     "output_type": "display_data"
    }
   ],
   "source": [
    "plt.imshow(img_bgr)"
   ]
  },
  {
   "cell_type": "code",
   "execution_count": 60,
   "id": "8b44eae1",
   "metadata": {},
   "outputs": [],
   "source": [
    "mpimg.imsave('img_rgb.jpg',img_rgb) \n",
    "mpimg.imsave('img_bgr.jpg',img_bgr) "
   ]
  },
  {
   "cell_type": "code",
   "execution_count": 61,
   "id": "2f6d1b0a",
   "metadata": {},
   "outputs": [],
   "source": [
    "#img_rgb_cv = cv2.imread('img_rgb.jpg', cv2.IMREAD_UNCHANGED)\n",
    "img_rgb_cv = cv2.imread('colors.png', cv2.IMREAD_UNCHANGED)\n",
    "\n",
    "img_bgr_cv = cv2.imread('img_bgr.jpg', cv2.IMREAD_UNCHANGED)"
   ]
  },
  {
   "cell_type": "code",
   "execution_count": 63,
   "id": "4a172beb",
   "metadata": {},
   "outputs": [],
   "source": [
    "img_rgb_cv_red = img_rgb_cv[:, :, 0] #FORMER BLUE!"
   ]
  },
  {
   "cell_type": "code",
   "execution_count": 45,
   "id": "9adb87ec",
   "metadata": {},
   "outputs": [
    {
     "name": "stdout",
     "output_type": "stream",
     "text": [
      "[[255 255 255 ... 255 255 255]\n",
      " [255 255 255 ... 255 255 255]\n",
      " [255 255 255 ... 255 255 255]\n",
      " ...\n",
      " [255 255 255 ... 255 255 255]\n",
      " [255 255 255 ... 255 255 255]\n",
      " [255 255 255 ... 255 255 255]]\n"
     ]
    }
   ],
   "source": [
    "img_rgb_cv_green = img_rgb_cv[:, :, 1])  #FORMER GREEN"
   ]
  },
  {
   "cell_type": "code",
   "execution_count": 46,
   "id": "916a16fa",
   "metadata": {},
   "outputs": [
    {
     "name": "stdout",
     "output_type": "stream",
     "text": [
      "[[255 255 255 ... 255 255 255]\n",
      " [255 255 255 ... 255 255 255]\n",
      " [255 255 255 ... 255 255 255]\n",
      " ...\n",
      " [255 255 255 ... 255 255 255]\n",
      " [255 255 255 ... 255 255 255]\n",
      " [255 255 255 ... 255 255 255]]\n"
     ]
    }
   ],
   "source": [
    "img_rgb_cv_blue = img_rgb_cv[:, :, 2]) #FORMER RED"
   ]
  },
  {
   "cell_type": "code",
   "execution_count": 47,
   "id": "1a517b3d",
   "metadata": {},
   "outputs": [
    {
     "name": "stdout",
     "output_type": "stream",
     "text": [
      "[[51 51 51 ... 51 51 51]\n",
      " [51 51 51 ... 51 51 51]\n",
      " [51 51 51 ... 51 51 51]\n",
      " ...\n",
      " [51 51 51 ... 51 51 51]\n",
      " [51 51 51 ... 51 51 51]\n",
      " [51 51 51 ... 51 51 51]]\n"
     ]
    }
   ],
   "source": [
    "print(img_bgr_cv[:, :, 0])   #Former Red"
   ]
  },
  {
   "cell_type": "code",
   "execution_count": 48,
   "id": "5b6a305d",
   "metadata": {},
   "outputs": [
    {
     "name": "stdout",
     "output_type": "stream",
     "text": [
      "[[100 100 100 ... 100 100 100]\n",
      " [100 100 100 ... 100 100 100]\n",
      " [100 100 100 ... 100 100 100]\n",
      " ...\n",
      " [100 100 100 ... 100 100 100]\n",
      " [100 100 100 ... 100 100 100]\n",
      " [100 100 100 ... 100 100 100]]\n"
     ]
    }
   ],
   "source": [
    "print(img_bgr_cv[:, :, 1])   #Former Green"
   ]
  },
  {
   "cell_type": "code",
   "execution_count": 49,
   "id": "c675f2cd",
   "metadata": {},
   "outputs": [
    {
     "name": "stdout",
     "output_type": "stream",
     "text": [
      "[[150 150 150 ... 150 150 150]\n",
      " [150 150 150 ... 150 150 150]\n",
      " [150 150 150 ... 150 150 150]\n",
      " ...\n",
      " [150 150 150 ... 150 150 150]\n",
      " [150 150 150 ... 150 150 150]\n",
      " [150 150 150 ... 150 150 150]]\n"
     ]
    }
   ],
   "source": [
    "print(img_bgr_cv[:, :, 2])   #Former Blue"
   ]
  },
  {
   "cell_type": "code",
   "execution_count": 50,
   "id": "e4dea6d2",
   "metadata": {},
   "outputs": [],
   "source": [
    "gray_rgb = cv2.cvtColor(img_rgb_cv, cv2.COLOR_BGR2GRAY)\n",
    "gray_bgr = cv2.cvtColor(img_bgr_cv, cv2.COLOR_RGB2GRAY)\n"
   ]
  },
  {
   "cell_type": "code",
   "execution_count": 51,
   "id": "4dee326f",
   "metadata": {},
   "outputs": [],
   "source": [
    "cv2.imshow('BGR2GRAY',gray_rgb)\n",
    "cv2.waitKey(0)\n",
    " \n",
    "cv2.destroyAllWindows()"
   ]
  },
  {
   "cell_type": "code",
   "execution_count": 41,
   "id": "cfc0fc6a",
   "metadata": {},
   "outputs": [],
   "source": [
    "cv2.imshow('RGB2GRAY',gray_bgr)\n",
    "cv2.waitKey(0)\n",
    " \n",
    "cv2.destroyAllWindows()"
   ]
  },
  {
   "cell_type": "code",
   "execution_count": null,
   "id": "b0af914b",
   "metadata": {},
   "outputs": [],
   "source": []
  },
  {
   "cell_type": "code",
   "execution_count": null,
   "id": "a2253654",
   "metadata": {},
   "outputs": [],
   "source": []
  },
  {
   "cell_type": "code",
   "execution_count": null,
   "id": "3fe8a103",
   "metadata": {},
   "outputs": [],
   "source": []
  },
  {
   "cell_type": "code",
   "execution_count": null,
   "id": "226aa0be",
   "metadata": {},
   "outputs": [],
   "source": []
  },
  {
   "cell_type": "code",
   "execution_count": null,
   "id": "7592c5c6",
   "metadata": {},
   "outputs": [],
   "source": []
  },
  {
   "cell_type": "code",
   "execution_count": null,
   "id": "7b901a4c",
   "metadata": {},
   "outputs": [],
   "source": []
  },
  {
   "cell_type": "code",
   "execution_count": null,
   "id": "463cec58",
   "metadata": {},
   "outputs": [],
   "source": []
  },
  {
   "cell_type": "code",
   "execution_count": null,
   "id": "1f62c048",
   "metadata": {},
   "outputs": [],
   "source": []
  }
 ],
 "metadata": {
  "kernelspec": {
   "display_name": "Python 3 (ipykernel)",
   "language": "python",
   "name": "python3"
  },
  "language_info": {
   "codemirror_mode": {
    "name": "ipython",
    "version": 3
   },
   "file_extension": ".py",
   "mimetype": "text/x-python",
   "name": "python",
   "nbconvert_exporter": "python",
   "pygments_lexer": "ipython3",
   "version": "3.10.6"
  }
 },
 "nbformat": 4,
 "nbformat_minor": 5
}
