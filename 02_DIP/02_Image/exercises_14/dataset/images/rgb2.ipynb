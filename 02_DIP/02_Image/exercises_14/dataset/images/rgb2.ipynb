{
 "cells": [
  {
   "cell_type": "code",
   "execution_count": 1,
   "id": "9425562f",
   "metadata": {},
   "outputs": [],
   "source": [
    "import cv2\n",
    "import matplotlib.pyplot as plt\n",
    "from PIL import Image, ImageOps"
   ]
  },
  {
   "cell_type": "code",
   "execution_count": 2,
   "id": "3b360782",
   "metadata": {},
   "outputs": [],
   "source": [
    "img = Image.open(\"rgb_test.jpg\")"
   ]
  },
  {
   "cell_type": "code",
   "execution_count": 3,
   "id": "83a0d66c",
   "metadata": {},
   "outputs": [],
   "source": [
    "r,g,b = img.split()"
   ]
  },
  {
   "cell_type": "code",
   "execution_count": 4,
   "id": "4b0f0040",
   "metadata": {},
   "outputs": [],
   "source": [
    "r.show()"
   ]
  },
  {
   "cell_type": "code",
   "execution_count": 5,
   "id": "acd84c92",
   "metadata": {},
   "outputs": [],
   "source": [
    "g.show()"
   ]
  },
  {
   "cell_type": "code",
   "execution_count": 6,
   "id": "04ac2e73",
   "metadata": {},
   "outputs": [],
   "source": [
    "b.show()"
   ]
  },
  {
   "cell_type": "code",
   "execution_count": 15,
   "id": "35ae6db6",
   "metadata": {},
   "outputs": [],
   "source": [
    "rgb_img = Image.merge('RGB', (r,g,b))\n",
    "rgb_img.save(\"rgb_img.jpg\")\n",
    "\n",
    "bgr_img = Image.merge('RGB', (b,g,r))\n",
    "bgr_img.save(\"bgr_img.jpg\")\n",
    "\n",
    "gray_img = ImageOps.grayscale(img)\n",
    "# gray = 0.299⋅R+0.587⋅G+0.114⋅B"
   ]
  },
  {
   "cell_type": "code",
   "execution_count": 16,
   "id": "e613c49a",
   "metadata": {},
   "outputs": [],
   "source": [
    "#rgb_img.show(title='rgb image')"
   ]
  },
  {
   "cell_type": "code",
   "execution_count": 9,
   "id": "0a37d82a",
   "metadata": {},
   "outputs": [],
   "source": [
    "#bgr_img.show(title= 'bgr image')"
   ]
  },
  {
   "cell_type": "code",
   "execution_count": 11,
   "id": "be3a5880",
   "metadata": {},
   "outputs": [],
   "source": [
    "gray_img.show(title= 'gray image')"
   ]
  },
  {
   "cell_type": "code",
   "execution_count": 22,
   "id": "5a7de622",
   "metadata": {},
   "outputs": [],
   "source": [
    "rgb_img_cv = cv2.imread(\"rgb_img.jpg\", cv2.IMREAD_UNCHANGED)\n",
    "bgr_img_cv = cv2.imread(\"bgr_img.jpg\", cv2.IMREAD_UNCHANGED)"
   ]
  },
  {
   "cell_type": "code",
   "execution_count": 24,
   "id": "161f5980",
   "metadata": {},
   "outputs": [],
   "source": [
    "gray_rgb2gray = cv2.cvtColor(rgb_img_cv , cv2.COLOR_BGR2GRAY)\n",
    "gray_bgr2gray = cv2.cvtColor(bgr_img_cv , cv2.COLOR_RGB2GRAY)"
   ]
  },
  {
   "cell_type": "code",
   "execution_count": 25,
   "id": "2ce26240",
   "metadata": {},
   "outputs": [],
   "source": [
    "cv2.imshow('RGB2GRAY',gray_rgb2gray)\n",
    "cv2.waitKey(0)\n",
    " \n",
    "cv2.destroyAllWindows()"
   ]
  },
  {
   "cell_type": "code",
   "execution_count": 29,
   "id": "8a9987a8",
   "metadata": {},
   "outputs": [],
   "source": [
    "cv2.imshow('RGB2GRAY',gray_bgr2gray)\n",
    "cv2.waitKey(0)\n",
    "cv2.destroyAllWindows()"
   ]
  },
  {
   "cell_type": "code",
   "execution_count": 27,
   "id": "ef74888d",
   "metadata": {},
   "outputs": [],
   "source": [
    "#WRONG FOR RGB IMAGE!\n",
    "wrong_gray_rgb2gray = cv2.cvtColor(rgb_img_cv , cv2.COLOR_RGB2GRAY)"
   ]
  },
  {
   "cell_type": "code",
   "execution_count": 28,
   "id": "815f2ab7",
   "metadata": {},
   "outputs": [],
   "source": [
    "cv2.imshow('RGB2GRAY',wrong_gray_rgb2gray)\n",
    "cv2.waitKey(0)\n",
    " \n",
    "cv2.destroyAllWindows()"
   ]
  },
  {
   "cell_type": "code",
   "execution_count": null,
   "id": "3c5973ed",
   "metadata": {},
   "outputs": [],
   "source": []
  }
 ],
 "metadata": {
  "kernelspec": {
   "display_name": "Python 3 (ipykernel)",
   "language": "python",
   "name": "python3"
  },
  "language_info": {
   "codemirror_mode": {
    "name": "ipython",
    "version": 3
   },
   "file_extension": ".py",
   "mimetype": "text/x-python",
   "name": "python",
   "nbconvert_exporter": "python",
   "pygments_lexer": "ipython3",
   "version": "3.10.6"
  }
 },
 "nbformat": 4,
 "nbformat_minor": 5
}
