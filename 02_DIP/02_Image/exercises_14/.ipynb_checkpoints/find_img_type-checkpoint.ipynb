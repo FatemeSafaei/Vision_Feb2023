{
 "cells": [
  {
   "cell_type": "code",
   "execution_count": 108,
   "id": "7b43face",
   "metadata": {},
   "outputs": [],
   "source": [
    "import cv2\n",
    "import numpy as np\n",
    "\n",
    "type_of_image = 'nothing!'"
   ]
  },
  {
   "cell_type": "code",
   "execution_count": 109,
   "id": "19004e7e",
   "metadata": {},
   "outputs": [],
   "source": [
    "def num_channel(img):\n",
    "    if img.ndim == 2:\n",
    "        channels = 1\n",
    "    \n",
    "    elif img.ndim == 3:\n",
    "        channels = img.shape[-1]\n",
    "        \n",
    "    else:\n",
    "        print('image has unexpected number of channels!')\n",
    "        channels = -1\n",
    "        \n",
    "    return channels"
   ]
  },
  {
   "cell_type": "code",
   "execution_count": 110,
   "id": "b5a36c5c",
   "metadata": {},
   "outputs": [],
   "source": [
    "def gray_or_binary(img):\n",
    "    unique_intensities =  np.unique(img)\n",
    "    len_unique_intensities = len(unique_intensities)\n",
    "    \n",
    "    \n",
    "    if len_unique_intensities > 2:\n",
    "        type_of_image = 'Gray'\n",
    "        \n",
    "    elif len_unique_intensities == 2 :\n",
    "        sorted_unique_intensities = np.sort(unique_intensities)\n",
    "        \n",
    "        print(sorted_unique_intensities[0])\n",
    "        print(sorted_unique_intensities[1])\n",
    "        \n",
    "        if sorted_unique_intensities[0] ==0 and (sorted_unique_intensities[1] ==1 or 255):\n",
    "            type_of_image = 'Binary'\n",
    "        else:\n",
    "            type_of_image = 'Gray'\n",
    "    \n",
    "    elif len_unique_intensities == 1:\n",
    "        binary_intensities = [0, 1, 255]\n",
    "        \n",
    "        if unique_intensities[0] in binary_intensities:\n",
    "            type_of_image = 'Binary'\n",
    "        else:\n",
    "            type_of_image = 'Gray'\n",
    "            \n",
    "    return type_of_image"
   ]
  },
  {
   "cell_type": "code",
   "execution_count": 111,
   "id": "2c4f784f",
   "metadata": {},
   "outputs": [],
   "source": [
    "def find_type_of_img(imgpath):\n",
    "    img = cv2.imread(imgpath,cv2.IMREAD_UNCHANGED)\n",
    "    num_channels = num_channel(img)\n",
    "    \n",
    "    if num_channels == 4:\n",
    "        type_of_image = 'Color with alpha channel'\n",
    "        \n",
    "    elif num_channels == 3:\n",
    "        type_of_image = 'Color'\n",
    "       \n",
    "    elif num_channels == 2:\n",
    "        type_of_image = 'Gray with alpha channel'\n",
    "        \n",
    "    elif num_channels == 1:\n",
    "        type_of_image = gray_or_binary(img)  \n",
    "        \n",
    "    return type_of_image "
   ]
  },
  {
   "cell_type": "code",
   "execution_count": 112,
   "id": "7a477dd7",
   "metadata": {},
   "outputs": [
    {
     "data": {
      "text/plain": [
       "'Gray'"
      ]
     },
     "execution_count": 112,
     "metadata": {},
     "output_type": "execute_result"
    }
   ],
   "source": [
    "find_type_of_img('dataset/images/a.jpg')"
   ]
  },
  {
   "cell_type": "code",
   "execution_count": null,
   "id": "ab23576c",
   "metadata": {},
   "outputs": [],
   "source": []
  }
 ],
 "metadata": {
  "kernelspec": {
   "display_name": "Python 3 (ipykernel)",
   "language": "python",
   "name": "python3"
  },
  "language_info": {
   "codemirror_mode": {
    "name": "ipython",
    "version": 3
   },
   "file_extension": ".py",
   "mimetype": "text/x-python",
   "name": "python",
   "nbconvert_exporter": "python",
   "pygments_lexer": "ipython3",
   "version": "3.10.6"
  }
 },
 "nbformat": 4,
 "nbformat_minor": 5
}
