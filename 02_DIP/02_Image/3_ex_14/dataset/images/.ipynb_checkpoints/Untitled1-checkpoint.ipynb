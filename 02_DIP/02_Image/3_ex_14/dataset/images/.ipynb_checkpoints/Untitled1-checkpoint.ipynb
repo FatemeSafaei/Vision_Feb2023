{
 "cells": [
  {
   "cell_type": "code",
   "execution_count": 40,
   "id": "de72bfba",
   "metadata": {},
   "outputs": [],
   "source": [
    "import numpy as np\n",
    "import matplotlib.pyplot as plt\n",
    "import cv2\n",
    "import matplotlib.image as mpimg\n",
    "\n",
    "red = np.full((5, 5), 50, dtype=np.uint8)\n",
    "green = np.full((5, 5), 100, dtype=np.uint8)\n",
    "blue = np.full((5, 5), 150, dtype=np.uint8)"
   ]
  },
  {
   "cell_type": "code",
   "execution_count": 41,
   "id": "b56a0f4f",
   "metadata": {},
   "outputs": [
    {
     "data": {
      "text/plain": [
       "array([[50, 50, 50, 50, 50],\n",
       "       [50, 50, 50, 50, 50],\n",
       "       [50, 50, 50, 50, 50],\n",
       "       [50, 50, 50, 50, 50],\n",
       "       [50, 50, 50, 50, 50]], dtype=uint8)"
      ]
     },
     "execution_count": 41,
     "metadata": {},
     "output_type": "execute_result"
    }
   ],
   "source": [
    "red"
   ]
  },
  {
   "cell_type": "code",
   "execution_count": 42,
   "id": "9508516f",
   "metadata": {},
   "outputs": [
    {
     "data": {
      "text/plain": [
       "array([[100, 100, 100, 100, 100],\n",
       "       [100, 100, 100, 100, 100],\n",
       "       [100, 100, 100, 100, 100],\n",
       "       [100, 100, 100, 100, 100],\n",
       "       [100, 100, 100, 100, 100]], dtype=uint8)"
      ]
     },
     "execution_count": 42,
     "metadata": {},
     "output_type": "execute_result"
    }
   ],
   "source": [
    "green"
   ]
  },
  {
   "cell_type": "code",
   "execution_count": 43,
   "id": "1ec92d10",
   "metadata": {},
   "outputs": [
    {
     "data": {
      "text/plain": [
       "array([[150, 150, 150, 150, 150],\n",
       "       [150, 150, 150, 150, 150],\n",
       "       [150, 150, 150, 150, 150],\n",
       "       [150, 150, 150, 150, 150],\n",
       "       [150, 150, 150, 150, 150]], dtype=uint8)"
      ]
     },
     "execution_count": 43,
     "metadata": {},
     "output_type": "execute_result"
    }
   ],
   "source": [
    "blue"
   ]
  },
  {
   "cell_type": "code",
   "execution_count": 44,
   "id": "8311a42d",
   "metadata": {},
   "outputs": [],
   "source": [
    "img_rgb = np.dstack((red,green,blue))"
   ]
  },
  {
   "cell_type": "code",
   "execution_count": 45,
   "id": "594fa992",
   "metadata": {},
   "outputs": [
    {
     "data": {
      "text/plain": [
       "<matplotlib.image.AxesImage at 0x7f75770daf20>"
      ]
     },
     "execution_count": 45,
     "metadata": {},
     "output_type": "execute_result"
    },
    {
     "data": {
      "image/png": "[encoded data removed]",
      "text/plain": [
       "<Figure size 432x288 with 1 Axes>"
      ]
     },
     "metadata": {
      "needs_background": "light"
     },
     "output_type": "display_data"
    }
   ],
   "source": [
    "plt.imshow(img_rgb)"
   ]
  },
  {
   "cell_type": "code",
   "execution_count": 46,
   "id": "8b44eae1",
   "metadata": {},
   "outputs": [],
   "source": [
    "mpimg.imsave('img_rgb.jpg',img_rgb) "
   ]
  },
  {
   "cell_type": "code",
   "execution_count": 47,
   "id": "2f6d1b0a",
   "metadata": {},
   "outputs": [],
   "source": [
    "img_rgb_cv = cv2.imread('img_rgb.jpg', cv2.IMREAD_UNCHANGED)"
   ]
  },
  {
   "cell_type": "code",
   "execution_count": 48,
   "id": "4a172beb",
   "metadata": {},
   "outputs": [
    {
     "name": "stdout",
     "output_type": "stream",
     "text": [
      "[[149 149 149 149 149]\n",
      " [149 149 149 149 149]\n",
      " [149 149 149 149 149]\n",
      " [149 149 149 149 149]\n",
      " [149 149 149 149 149]]\n"
     ]
    }
   ],
   "source": [
    "print(img_rgb_cv[:, :, 0]) #FORMER BLUE!"
   ]
  },
  {
   "cell_type": "code",
   "execution_count": 49,
   "id": "9adb87ec",
   "metadata": {},
   "outputs": [
    {
     "name": "stdout",
     "output_type": "stream",
     "text": [
      "[[100 100 100 100 100]\n",
      " [100 100 100 100 100]\n",
      " [100 100 100 100 100]\n",
      " [100 100 100 100 100]\n",
      " [100 100 100 100 100]]\n"
     ]
    }
   ],
   "source": [
    "print(img_rgb_cv[:, :, 1]) #FORMER GREEN"
   ]
  },
  {
   "cell_type": "code",
   "execution_count": 51,
   "id": "916a16fa",
   "metadata": {},
   "outputs": [
    {
     "name": "stdout",
     "output_type": "stream",
     "text": [
      "[[50 50 50 50 50]\n",
      " [50 50 50 50 50]\n",
      " [50 50 50 50 50]\n",
      " [50 50 50 50 50]\n",
      " [50 50 50 50 50]]\n"
     ]
    }
   ],
   "source": [
    "print(img_rgb_cv[:, :, 2]) #FORMER RED"
   ]
  },
  {
   "cell_type": "code",
   "execution_count": 54,
   "id": "1a517b3d",
   "metadata": {},
   "outputs": [],
   "source": [
    "cv2.imshow('colors',img_rgb_cv)\n",
    "cv2.waitKey(0)\n",
    " \n",
    "cv2.destroyAllWindows()"
   ]
  },
  {
   "cell_type": "code",
   "execution_count": null,
   "id": "5b6a305d",
   "metadata": {},
   "outputs": [],
   "source": []
  },
  {
   "cell_type": "code",
   "execution_count": null,
   "id": "c675f2cd",
   "metadata": {},
   "outputs": [],
   "source": []
  },
  {
   "cell_type": "code",
   "execution_count": null,
   "id": "e4dea6d2",
   "metadata": {},
   "outputs": [],
   "source": []
  },
  {
   "cell_type": "code",
   "execution_count": null,
   "id": "4dee326f",
   "metadata": {},
   "outputs": [],
   "source": []
  },
  {
   "cell_type": "code",
   "execution_count": 18,
   "id": "46cd0b7e",
   "metadata": {},
   "outputs": [
    {
     "data": {
      "text/plain": [
       "<matplotlib.image.AxesImage at 0x7f7577699030>"
      ]
     },
     "execution_count": 18,
     "metadata": {},
     "output_type": "execute_result"
    },
    {
     "data": {
      "image/png": "[encoded data removed]",
      "text/plain": [
       "<Figure size 432x288 with 1 Axes>"
      ]
     },
     "metadata": {
      "needs_background": "light"
     },
     "output_type": "display_data"
    }
   ],
   "source": [
    "img_bgr = np.dstack((blue,green,red))\n",
    "plt.imshow(img_bgr)"
   ]
  },
  {
   "cell_type": "code",
   "execution_count": null,
   "id": "deb67659",
   "metadata": {},
   "outputs": [],
   "source": [
    "plt.savefig('img_bgr.jpg')"
   ]
  },
  {
   "cell_type": "code",
   "execution_count": null,
   "id": "b0af914b",
   "metadata": {},
   "outputs": [],
   "source": []
  },
  {
   "cell_type": "code",
   "execution_count": null,
   "id": "a2253654",
   "metadata": {},
   "outputs": [],
   "source": []
  },
  {
   "cell_type": "code",
   "execution_count": null,
   "id": "3fe8a103",
   "metadata": {},
   "outputs": [],
   "source": []
  },
  {
   "cell_type": "code",
   "execution_count": null,
   "id": "226aa0be",
   "metadata": {},
   "outputs": [],
   "source": []
  },
  {
   "cell_type": "code",
   "execution_count": null,
   "id": "7592c5c6",
   "metadata": {},
   "outputs": [],
   "source": []
  },
  {
   "cell_type": "code",
   "execution_count": null,
   "id": "7b901a4c",
   "metadata": {},
   "outputs": [],
   "source": []
  },
  {
   "cell_type": "code",
   "execution_count": null,
   "id": "463cec58",
   "metadata": {},
   "outputs": [],
   "source": []
  },
  {
   "cell_type": "code",
   "execution_count": null,
   "id": "1f62c048",
   "metadata": {},
   "outputs": [],
   "source": []
  }
 ],
 "metadata": {
  "kernelspec": {
   "display_name": "Python 3 (ipykernel)",
   "language": "python",
   "name": "python3"
  },
  "language_info": {
   "codemirror_mode": {
    "name": "ipython",
    "version": 3
   },
   "file_extension": ".py",
   "mimetype": "text/x-python",
   "name": "python",
   "nbconvert_exporter": "python",
   "pygments_lexer": "ipython3",
   "version": "3.10.6"
  }
 },
 "nbformat": 4,
 "nbformat_minor": 5
}
