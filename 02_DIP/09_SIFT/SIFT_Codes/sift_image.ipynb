{
 "cells": [
  {
   "cell_type": "code",
   "execution_count": 1,
   "id": "065eaaee",
   "metadata": {},
   "outputs": [],
   "source": [
    "import cv2\n",
    "import numpy as np\n",
    "import matplotlib.pyplot as plt"
   ]
  },
  {
   "cell_type": "code",
   "execution_count": 2,
   "id": "9a4847ca",
   "metadata": {},
   "outputs": [],
   "source": [
    "def resize_img(img, scale_precent):\n",
    "    width = int(img.shape[1]*scale_precent/100)\n",
    "    hight = int(img.shape[0]*scale_precent/100)\n",
    "    dim = (width, hight)\n",
    "    \n",
    "    resized = cv2.resize(img, dim)\n",
    "    return resized\n",
    "    "
   ]
  },
  {
   "cell_type": "code",
   "execution_count": null,
   "id": "d3b44b96",
   "metadata": {},
   "outputs": [],
   "source": [
    "#load image\n",
    "img1 = cv2.imread('media/DL_Vision_Systems_1.jpg', 0)\n",
    "img2 = cv2.imread('media/DL_Vision_Systems_2.jpg', 0)"
   ]
  },
  {
   "cell_type": "code",
   "execution_count": null,
   "id": "de9bd65c",
   "metadata": {},
   "outputs": [],
   "source": [
    "img1_resized = resize_img(img1, 60)\n",
    "img2_resized = resize_img(img2, 60)\n",
    "#cv2.imshow('img1_resized', img1_resized)\n",
    "#cv2.waitKey(0)"
   ]
  },
  {
   "cell_type": "code",
   "execution_count": null,
   "id": "3127a8fe",
   "metadata": {},
   "outputs": [],
   "source": [
    "#SIFT\n",
    "sift = cv2.SIFT_create()\n",
    "\n",
    "#x, y - -> keypoints, Histogram --> Discriptor\n",
    "\n",
    "keypoints_1, desciptors_1 = sift.detectAndCompute(img1_resized, mask=None)\n",
    "keypoints_2, desciptors_2 = sift.detectAndCompute(img2_resized, mask=None)\n",
    "\n",
    "img1_dkp = cv2.drawKeypoints(img1_resized, keypoints_1, 0, flags=cv2.DRAW_MATCHES_FLAGS_DRAW_RICH_KEYPOINTS)\n",
    "img2_dkp = cv2.drawKeypoints(img2_resized, keypoints_2, 0, flags=cv2.DRAW_MATCHES_FLAGS_DRAW_RICH_KEYPOINTS)\n",
    "\n",
    "#cv2.imshow('img1_dkp', img1_dkp)\n",
    "#cv2.imshow('img2_dkp', img2_dkp)\n",
    "#cv2.waitKey(0)"
   ]
  },
  {
   "cell_type": "code",
   "execution_count": null,
   "id": "cc291811",
   "metadata": {},
   "outputs": [],
   "source": [
    "#Brute force matcher\n",
    "\n",
    "bf = cv2.BFMatcher(cv2.NORM_L2, crossCheck=True)\n",
    "matches = bf.match(desciptors_1, desciptors_2)\n",
    "matches = sorted(matches, key= lambda x: x.distance)\n",
    "\n",
    "result = cv2.drawMatches(img1_resized, keypoints_1, img2_resized, keypoints_2, matches[:50], None)\n",
    "cv2.imshow('result', result)\n",
    "cv2.waitKey(0)"
   ]
  },
  {
   "cell_type": "code",
   "execution_count": 4,
   "id": "e3992484",
   "metadata": {},
   "outputs": [],
   "source": [
    "#SIFT ON VIDEO\n",
    "import cv2\n",
    "import time\n",
    "\n",
    "cap = cv2.VideoCapture(0)\n",
    "sift = cv2.SIFT_create()\n",
    "bf = cv2.BFMatcher(cv2.NORM_L2, crossCheck=True)\n",
    "\n",
    "i = 0\n",
    "\n",
    "while cap.isOpened():\n",
    "    \n",
    "    start = time.time()\n",
    "    \n",
    "    ret, img1 = cap.read()\n",
    "    img1 = cv2.cvtColor(img1, cv2.COLOR_BGR2GRAY)\n",
    "    img2 = cv2.imread('media/DL_Vision_Systems_2.jpg', 0)\n",
    "    img2 = resize_img(img2, 60)\n",
    "    \n",
    "    keypoints_1, desciptors_1 = sift.detectAndCompute(img1, mask=None)\n",
    "    keypoints_2, desciptors_2 = sift.detectAndCompute(img2, mask=None)\n",
    "\n",
    "    matches = bf.match(desciptors_1, desciptors_2)\n",
    "    matches = sorted(matches, key= lambda x: x.distance)\n",
    "    \n",
    "    result = cv2.drawMatches(img1, keypoints_1, img2, keypoints_2, matches[:50], None)\n",
    "\n",
    "    end = time.time()\n",
    "    i += (end - start)\n",
    "    cv2.imshow('video', result)\n",
    "    \n",
    "    key = cv2.waitKey(1)\n",
    "    if key == ord('q') or i > 10:\n",
    "        break\n",
    "        \n",
    "cap.release()\n",
    "cv2.destroyAllWindows()\n"
   ]
  },
  {
   "cell_type": "code",
   "execution_count": 6,
   "id": "f12a76ef",
   "metadata": {},
   "outputs": [],
   "source": [
    "import cv2\n",
    "import numpy as np \n",
    "import matplotlib.pyplot as plt\n",
    "\n",
    "vid = cv2.VideoCapture('media/lanes.mp4')\n",
    "\n",
    "while True:\n",
    "    ret, frame = vid.read()\n",
    "    \n",
    "    if not ret:\n",
    "        vid = cv2.VideoCapture('media/lanes.mp4')\n",
    "        continue\n",
    "        \n",
    "    #denoise\n",
    "    \n",
    "    #recognize yellow color in the frames\n",
    "    \n",
    "    #edge detection\n",
    "    \n",
    "    # hough line!\n",
    "    \n",
    "    \n",
    "    \n",
    "    \n",
    "    \n",
    "    \n",
    "    cv2.imshow('lane detection', frame)\n",
    "    key = cv2.waitKey(1)\n",
    "    if key == ord('q'):\n",
    "        break\n",
    "        \n",
    "cap.release()\n",
    "cv2.destroyAllWindows()\n",
    "    \n",
    "\n"
   ]
  },
  {
   "cell_type": "code",
   "execution_count": null,
   "id": "c731e0e0",
   "metadata": {},
   "outputs": [],
   "source": []
  },
  {
   "cell_type": "code",
   "execution_count": null,
   "id": "8ca877f7",
   "metadata": {},
   "outputs": [],
   "source": []
  },
  {
   "cell_type": "code",
   "execution_count": null,
   "id": "392b9d87",
   "metadata": {},
   "outputs": [],
   "source": []
  },
  {
   "cell_type": "code",
   "execution_count": null,
   "id": "d0bbc67a",
   "metadata": {},
   "outputs": [],
   "source": []
  },
  {
   "cell_type": "code",
   "execution_count": null,
   "id": "c3b49a7d",
   "metadata": {},
   "outputs": [],
   "source": []
  },
  {
   "cell_type": "code",
   "execution_count": null,
   "id": "dbe27176",
   "metadata": {},
   "outputs": [],
   "source": []
  }
 ],
 "metadata": {
  "kernelspec": {
   "display_name": "Python 3 (ipykernel)",
   "language": "python",
   "name": "python3"
  },
  "language_info": {
   "codemirror_mode": {
    "name": "ipython",
    "version": 3
   },
   "file_extension": ".py",
   "mimetype": "text/x-python",
   "name": "python",
   "nbconvert_exporter": "python",
   "pygments_lexer": "ipython3",
   "version": "3.10.6"
  }
 },
 "nbformat": 4,
 "nbformat_minor": 5
}
