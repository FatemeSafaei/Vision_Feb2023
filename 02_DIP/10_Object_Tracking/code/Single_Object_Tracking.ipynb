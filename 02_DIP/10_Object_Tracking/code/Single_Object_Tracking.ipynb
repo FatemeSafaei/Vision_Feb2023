{
 "cells": [
  {
   "cell_type": "code",
   "execution_count": 1,
   "id": "5693da3e",
   "metadata": {},
   "outputs": [],
   "source": [
    "import cv2\n",
    "import numpy as np"
   ]
  },
  {
   "cell_type": "code",
   "execution_count": 2,
   "id": "0209d78c",
   "metadata": {},
   "outputs": [],
   "source": [
    "template = cv2.imread('template_1.jpg', 0)\n",
    "#cv2.imshow('template', template)\n",
    "#cv2.waitKey(0)\n",
    "#cv2.destroyAllWindows()"
   ]
  },
  {
   "cell_type": "code",
   "execution_count": 3,
   "id": "f7d65f1c",
   "metadata": {},
   "outputs": [],
   "source": [
    "sift = cv2.SIFT_create()\n",
    "bf = cv2.BFMatcher()"
   ]
  },
  {
   "cell_type": "code",
   "execution_count": 4,
   "id": "0ee5cf1b",
   "metadata": {},
   "outputs": [],
   "source": [
    "keypoints_template, descriptors_template = sift.detectAndCompute(template, None)"
   ]
  },
  {
   "cell_type": "code",
   "execution_count": 5,
   "id": "787717bf",
   "metadata": {},
   "outputs": [],
   "source": [
    "cap = cv2.VideoCapture(0)"
   ]
  },
  {
   "cell_type": "code",
   "execution_count": 6,
   "id": "ac554524",
   "metadata": {},
   "outputs": [],
   "source": [
    "while cap.isOpened():\n",
    "    \n",
    "    ret, frame = cap.read()\n",
    "    \n",
    "    if not ret:\n",
    "        break\n",
    "        \n",
    "    frame = cv2.cvtColor(frame, cv2.COLOR_BGR2GRAY)\n",
    "    \n",
    "    keypoints_frame, descriptors_frame = sift.detectAndCompute(frame, None) \n",
    "    \n",
    "    matches = bf.knnMatch(descriptors_template, descriptors_frame, k=2)\n",
    "    \n",
    "    good_matches = []\n",
    "    \n",
    "    for m, n in matches:\n",
    "        if m.distance < 0.7 * n.distance:\n",
    "            good_matches.append(m)\n",
    "            \n",
    "    if len(good_matches) >= 4:\n",
    "        \n",
    "        src_pts = np.float32([keypoints_template[m.queryIdx].pt for m in good_matches]).reshape(-1, 1, 2) \n",
    "        dst_pts = np.float32([keypoints_frame[m.trainIdx].pt for m in good_matches]).reshape(-1, 1, 2)\n",
    "        \n",
    "        M,_=cv2.findHomography(src_pts, dst_pts, cv2.RANSAC)\n",
    "        \n",
    "        h, w = template.shape\n",
    "        \n",
    "        template_corner = np.float32([[0, 0], [0, h], [w, h], [w, 0]]).reshape(-1, 1, 2)\n",
    "        transformed_corner = cv2.perspectiveTransform(template_corner, M)\n",
    "        \n",
    "        bounding_box = cv2.polylines(frame, [np.int32(transformed_corner)], True, (0, 255, 0), 2)\n",
    "        cv2.imshow('bounding box', bounding_box)\n",
    "            \n",
    "    \n",
    "    if cv2.waitKey(1)==27:\n",
    "        break\n",
    "cap.release()\n",
    "cv2.destroyAllWindows()"
   ]
  },
  {
   "cell_type": "code",
   "execution_count": null,
   "id": "1f8e0344",
   "metadata": {},
   "outputs": [],
   "source": []
  },
  {
   "cell_type": "code",
   "execution_count": null,
   "id": "516747ec",
   "metadata": {},
   "outputs": [],
   "source": []
  },
  {
   "cell_type": "code",
   "execution_count": null,
   "id": "5447528b",
   "metadata": {},
   "outputs": [],
   "source": []
  }
 ],
 "metadata": {
  "kernelspec": {
   "display_name": "Python 3 (ipykernel)",
   "language": "python",
   "name": "python3"
  },
  "language_info": {
   "codemirror_mode": {
    "name": "ipython",
    "version": 3
   },
   "file_extension": ".py",
   "mimetype": "text/x-python",
   "name": "python",
   "nbconvert_exporter": "python",
   "pygments_lexer": "ipython3",
   "version": "3.10.6"
  }
 },
 "nbformat": 4,
 "nbformat_minor": 5
}
