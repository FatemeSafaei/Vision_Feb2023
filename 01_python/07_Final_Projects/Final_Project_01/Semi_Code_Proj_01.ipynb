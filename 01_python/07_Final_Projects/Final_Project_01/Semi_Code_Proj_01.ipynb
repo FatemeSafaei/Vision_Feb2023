{
 "cells": [
  {
   "cell_type": "code",
   "execution_count": 1,
   "id": "c6c33d3c",
   "metadata": {},
   "outputs": [
    {
     "name": "stdout",
     "output_type": "stream",
     "text": [
      "https://imdb-api.com/en/API/Search/k_fak1n9j8/inception\n"
     ]
    }
   ],
   "source": [
    "#https://imdb-api.com/en/API/Search/k_fak1n9j8/inception 2010\n",
    "IMDB_USER_KEY = r'k_fak1n9j8'\n",
    "search_item = 'inception'\n",
    "IMDB_API = r'https://imdb-api.com/en/API/Search/{}/{}'.format(IMDB_USER_KEY,search_item )\n",
    "print(IMDB_API)"
   ]
  },
  {
   "cell_type": "code",
   "execution_count": 2,
   "id": "4412aa42",
   "metadata": {},
   "outputs": [],
   "source": [
    "import requests"
   ]
  },
  {
   "cell_type": "code",
   "execution_count": 3,
   "id": "938a0507",
   "metadata": {},
   "outputs": [
    {
     "data": {
      "text/plain": [
       "<Response [200]>"
      ]
     },
     "execution_count": 3,
     "metadata": {},
     "output_type": "execute_result"
    }
   ],
   "source": [
    "response = requests.get(IMDB_API)\n",
    "response"
   ]
  },
  {
   "cell_type": "code",
   "execution_count": 5,
   "id": "dbdeb38e",
   "metadata": {},
   "outputs": [
    {
     "data": {
      "text/plain": [
       "{'searchType': 'Title',\n",
       " 'expression': 'inception',\n",
       " 'results': [{'id': 'tt1375666',\n",
       "   'resultType': 'Title',\n",
       "   'image': 'https://m.media-amazon.com/images/M/MV5BMjAxMzY3NjcxNF5BMl5BanBnXkFtZTcwNTI5OTM0Mw@@._V1_Ratio0.6757_AL_.jpg',\n",
       "   'title': 'Inception',\n",
       "   'description': '2010 Leonardo DiCaprio, Joseph Gordon-Levitt'},\n",
       "  {'id': 'tt1790736',\n",
       "   'resultType': 'Title',\n",
       "   'image': 'https://m.media-amazon.com/images/M/MV5BMjE0NGIwM2EtZjQxZi00ZTE5LWExN2MtNDBlMjY1ZmZkYjU3XkEyXkFqcGdeQXVyNjMwNzk3Mjk@._V1_Ratio0.6757_AL_.jpg',\n",
       "   'title': 'Inception: The Cobol Job',\n",
       "   'description': '2010 Video Leonardo DiCaprio, Joseph Gordon-Levitt'},\n",
       "  {'id': 'tt8269586',\n",
       "   'resultType': 'Title',\n",
       "   'image': 'https://m.media-amazon.com/images/M/MV5BNDk3NTNmNGEtOWJkYi00NGEyLThkZDQtOTBlZmRhN2IwYTk0XkEyXkFqcGdeQXVyNTM3MDMyMDQ@._V1_Ratio0.7568_AL_.jpg',\n",
       "   'title': 'Bikini Inception',\n",
       "   'description': '2015 Paizley Bishop, Byamba'},\n",
       "  {'id': 'tt7321322',\n",
       "   'resultType': 'Title',\n",
       "   'image': 'https://m.media-amazon.com/images/M/MV5BYWJmYWJmNWMtZTBmNy00M2MzLTg5ZWEtOGU5ZWRiYTE0ZjVmXkEyXkFqcGdeQXVyNzkyOTM2MjE@._V1_Ratio0.7297_AL_.jpg',\n",
       "   'title': 'Inception',\n",
       "   'description': '2014 Short Erfan Refahatnia, Danial Hajibarat'},\n",
       "  {'id': 'tt5295990',\n",
       "   'resultType': 'Title',\n",
       "   'image': 'https://m.media-amazon.com/images/M/MV5BZGFjOTRiYjgtYjEzMS00ZjQ2LTkzY2YtOGQ0NDI2NTVjOGFmXkEyXkFqcGdeQXVyNDQ5MDYzMTk@._V1_Ratio0.6757_AL_.jpg',\n",
       "   'title': 'Inception: Jump Right Into the Action',\n",
       "   'description': '2010 Video Leonardo DiCaprio, Joseph Gordon-Levitt'},\n",
       "  {'id': 'tt6793710',\n",
       "   'resultType': 'Title',\n",
       "   'image': 'https://m.media-amazon.com/images/M/MV5BZTU1M2U4OWUtZTQ5OS00OWM1LTljN2EtMWJmZDgxNzUwZGNkXkEyXkFqcGdeQXVyMTA0MjU0Ng@@._V1_Ratio0.7027_AL_.jpg',\n",
       "   'title': 'The Crack: Inception',\n",
       "   'description': '2019 Carlos Santos, Miguel Ángel Muñoz'},\n",
       "  {'id': 'tt5581256',\n",
       "   'resultType': 'Title',\n",
       "   'image': '',\n",
       "   'title': 'Inception',\n",
       "   'description': ''},\n",
       "  {'id': 'tt11224722',\n",
       "   'resultType': 'Title',\n",
       "   'image': 'https://m.media-amazon.com/images/M/MV5BM2VmM2MzMTctNTRhZi00YzU1LTkyM2MtY2VkYTAwYzk4ZmM1XkEyXkFqcGdeQXVyMTExNzAyMjc5._V1_Ratio1.5135_AL_.jpg',\n",
       "   'title': 'Insha Allah - An inception at closure',\n",
       "   'description': '2019 Menaga, Mohan'},\n",
       "  {'id': 'tt12960252',\n",
       "   'resultType': 'Title',\n",
       "   'image': '',\n",
       "   'title': 'Inception Premiere',\n",
       "   'description': '2010 Tera Hendrickson, Johnny Marr'},\n",
       "  {'id': 'tt13039892',\n",
       "   'resultType': 'Title',\n",
       "   'image': '',\n",
       "   'title': 'X - Inception',\n",
       "   'description': '2021 Hazar Deniz BG, Memet Roj'},\n",
       "  {'id': 'tt5526902',\n",
       "   'resultType': 'Title',\n",
       "   'image': 'https://m.media-amazon.com/images/M/MV5BZDlkNzJmNjItZmQyYy00YzZkLTg4MmEtNGNkYTllMGQ5YzFhXkEyXkFqcGdeQXVyNjU1NjEzMjA@._V1_Ratio0.7027_AL_.jpg',\n",
       "   'title': 'The Inception',\n",
       "   'description': '2016 Short Kesavan Alath, Fayiza Kutty'},\n",
       "  {'id': 'tt2762020',\n",
       "   'resultType': 'Title',\n",
       "   'image': '',\n",
       "   'title': 'Inception of Chaos',\n",
       "   'description': '2012 Short Peter Benjamin, Matthew Bradley'},\n",
       "  {'id': 'tt0311992',\n",
       "   'resultType': 'Title',\n",
       "   'image': 'https://m.media-amazon.com/images/M/MV5BNGQ2ZjY5ODYtNWI4Yi00MWZjLWI2NDQtOTY2ZTMzZDk2NjVkXkEyXkFqcGdeQXVyNzU5MjczMzE@._V1_Ratio0.6757_AL_.jpg',\n",
       "   'title': 'WWA: The Inception',\n",
       "   'description': '2001 Video Charles Ashenoff, Marcus Bagwell'},\n",
       "  {'id': 'tt10218638',\n",
       "   'resultType': 'Title',\n",
       "   'image': 'https://m.media-amazon.com/images/M/MV5BODA1YzkyY2UtOTVkOS00M2VhLWFkYzQtNGRhMDZhMjc5NjJlXkEyXkFqcGdeQXVyNTc3MDE4NjE@._V1_Ratio1.5135_AL_.jpg',\n",
       "   'title': 'Inception of 001',\n",
       "   'description': '2018 Short John Geiger'},\n",
       "  {'id': 'tt1686778',\n",
       "   'resultType': 'Title',\n",
       "   'image': '',\n",
       "   'title': 'Inception: 4Movie Premiere Special',\n",
       "   'description': '2010 TV Movie Rick Edwards'},\n",
       "  {'id': 'tt12007102',\n",
       "   'resultType': 'Title',\n",
       "   'image': '',\n",
       "   'title': 'Alien Inception',\n",
       "   'description': '2017 Short Jeff Lennan, Jeff Lennan'},\n",
       "  {'id': 'tt1924396',\n",
       "   'resultType': 'Title',\n",
       "   'image': 'https://m.media-amazon.com/images/M/MV5BMTQ4MzQ3NjA0N15BMl5BanBnXkFtZTgwODQyNjQ4MDE@._V1_Ratio0.6757_AL_.jpg',\n",
       "   'title': 'The Best Offer',\n",
       "   'description': '2013 Geoffrey Rush, Jim Sturgess'},\n",
       "  {'id': 'tt4721124',\n",
       "   'resultType': 'Title',\n",
       "   'image': 'https://m.media-amazon.com/images/M/MV5BZmM2YjZhN2ItNTczZS00MDc1LTg0MTktODcyMjIyZmM5YjkwXkEyXkFqcGdeQXVyMjQ3NzUxOTM@._V1_Ratio0.6757_AL_.jpg',\n",
       "   'title': 'The Exception',\n",
       "   'description': '2016 Lily James, Jai Courtney'},\n",
       "  {'id': 'tt8185276',\n",
       "   'resultType': 'Title',\n",
       "   'image': '',\n",
       "   'title': 'IPW Inception',\n",
       "   'description': '2017 Video Dean Ayass, Ricky Slatter'},\n",
       "  {'id': 'tt12392782',\n",
       "   'resultType': 'Title',\n",
       "   'image': '',\n",
       "   'title': 'ASWA Inception',\n",
       "   'description': '2018 Video'},\n",
       "  {'id': 'tt12435434',\n",
       "   'resultType': 'Title',\n",
       "   'image': '',\n",
       "   'title': 'BLW Inception',\n",
       "   'description': '2016 Video'},\n",
       "  {'id': 'tt7821698',\n",
       "   'resultType': 'Title',\n",
       "   'image': '',\n",
       "   'title': 'Inception Hanukkah',\n",
       "   'description': '2011 Short Jon Bander, Emily Shapiro'},\n",
       "  {'id': 'tt7926130',\n",
       "   'resultType': 'Title',\n",
       "   'image': '',\n",
       "   'title': 'Cyberalien: Inception',\n",
       "   'description': '2017 Short Viktor Acidhouse'},\n",
       "  {'id': 'tt12798986',\n",
       "   'resultType': 'Title',\n",
       "   'image': 'https://m.media-amazon.com/images/M/MV5BZTdjYWIzNzItYjFiOC00MDQ0LThkMmMtNmYxNjU4OWJjMjdiXkEyXkFqcGdeQXVyMTA3NDc1MjI1._V1_Ratio0.8108_AL_.jpg',\n",
       "   'title': 'Ateez: Inception',\n",
       "   'description': '2020 Music Video Ateez, Jong-ho Choi'},\n",
       "  {'id': 'tt3563778',\n",
       "   'resultType': 'Title',\n",
       "   'image': 'https://m.media-amazon.com/images/M/MV5BNGZmYTc3OGItMzk3MS00YzIzLWExMzUtMzE4MDNkOGFiZWU0XkEyXkFqcGdeQXVyNDg2NjU3NTI@._V1_Ratio1.9459_AL_.jpg',\n",
       "   'title': 'Inception of a lost Art',\n",
       "   'description': '2013 Alexia Jordan, Philip Lombardo'}],\n",
       " 'errorMessage': ''}"
      ]
     },
     "execution_count": 5,
     "metadata": {},
     "output_type": "execute_result"
    }
   ],
   "source": [
    "feed = response.json()\n",
    "feed"
   ]
  },
  {
   "cell_type": "code",
   "execution_count": 6,
   "id": "87be08bd",
   "metadata": {},
   "outputs": [
    {
     "data": {
      "text/plain": [
       "dict_keys(['searchType', 'expression', 'results', 'errorMessage'])"
      ]
     },
     "execution_count": 6,
     "metadata": {},
     "output_type": "execute_result"
    }
   ],
   "source": [
    "feed.keys()"
   ]
  },
  {
   "cell_type": "code",
   "execution_count": 9,
   "id": "6bcf096c",
   "metadata": {},
   "outputs": [],
   "source": [
    "res = feed.get('results')"
   ]
  },
  {
   "cell_type": "code",
   "execution_count": 11,
   "id": "cfd81617",
   "metadata": {},
   "outputs": [
    {
     "data": {
      "text/plain": [
       "{'id': 'tt1790736',\n",
       " 'resultType': 'Title',\n",
       " 'image': 'https://m.media-amazon.com/images/M/MV5BMjE0NGIwM2EtZjQxZi00ZTE5LWExN2MtNDBlMjY1ZmZkYjU3XkEyXkFqcGdeQXVyNjMwNzk3Mjk@._V1_Ratio0.6757_AL_.jpg',\n",
       " 'title': 'Inception: The Cobol Job',\n",
       " 'description': '2010 Video Leonardo DiCaprio, Joseph Gordon-Levitt'}"
      ]
     },
     "execution_count": 11,
     "metadata": {},
     "output_type": "execute_result"
    }
   ],
   "source": [
    "res[1]"
   ]
  },
  {
   "cell_type": "code",
   "execution_count": 12,
   "id": "f7a69511",
   "metadata": {},
   "outputs": [
    {
     "data": {
      "text/plain": [
       "'https://m.media-amazon.com/images/M/MV5BMjAxMzY3NjcxNF5BMl5BanBnXkFtZTcwNTI5OTM0Mw@@._V1_Ratio0.6757_AL_.jpg'"
      ]
     },
     "execution_count": 12,
     "metadata": {},
     "output_type": "execute_result"
    }
   ],
   "source": [
    "movie_banner = res[0].get('image')\n",
    "movie_banner"
   ]
  },
  {
   "cell_type": "code",
   "execution_count": null,
   "id": "5b8dc112",
   "metadata": {},
   "outputs": [],
   "source": []
  },
  {
   "cell_type": "code",
   "execution_count": null,
   "id": "96824b9e",
   "metadata": {},
   "outputs": [],
   "source": []
  },
  {
   "cell_type": "code",
   "execution_count": null,
   "id": "3af652a1",
   "metadata": {},
   "outputs": [],
   "source": []
  },
  {
   "cell_type": "code",
   "execution_count": null,
   "id": "0404975f",
   "metadata": {},
   "outputs": [],
   "source": []
  },
  {
   "cell_type": "code",
   "execution_count": null,
   "id": "5fae788f",
   "metadata": {},
   "outputs": [],
   "source": []
  },
  {
   "cell_type": "code",
   "execution_count": null,
   "id": "8c630d4f",
   "metadata": {},
   "outputs": [],
   "source": []
  },
  {
   "cell_type": "code",
   "execution_count": null,
   "id": "4ee0867b",
   "metadata": {},
   "outputs": [],
   "source": []
  }
 ],
 "metadata": {
  "kernelspec": {
   "display_name": "Python 3 (ipykernel)",
   "language": "python",
   "name": "python3"
  },
  "language_info": {
   "codemirror_mode": {
    "name": "ipython",
    "version": 3
   },
   "file_extension": ".py",
   "mimetype": "text/x-python",
   "name": "python",
   "nbconvert_exporter": "python",
   "pygments_lexer": "ipython3",
   "version": "3.10.6"
  }
 },
 "nbformat": 4,
 "nbformat_minor": 5
}
